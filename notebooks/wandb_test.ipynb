{
 "cells": [
  {
   "cell_type": "code",
   "execution_count": 1,
   "metadata": {},
   "outputs": [],
   "source": [
    "import sys\n",
    "sys.path.append(\"../\")\n",
    "\n",
    "import os\n",
    "from pathlib import Path\n",
    "import wandb\n",
    "import shortuuid\n",
    "\n",
    "from confection import Config\n",
    "from desci_sense.configs import init_config"
   ]
  },
  {
   "cell_type": "code",
   "execution_count": null,
   "metadata": {},
   "outputs": [],
   "source": [
    "def log_pred_wandb(wandb_run, result):\n",
    "\n",
    "    # get a unique ID for this prediction\n",
    "    pred_uid = shortuuid.ShortUUID().random(length=8)\n",
    "\n",
    "    artifact = wandb.Artifact(f\"pred_{wandb_run.id}_{pred_uid}\", type=\"prediction\")\n",
    "\n",
    "    columns = [\"User\", \"URL\", \"Text\", \"Reasoning Steps\", \"Predicted Label\", \"True Label\", \"Tweet ID\"]\n",
    "\n",
    "    # extract relevant columns from prediction\n",
    "    pred_row = [\n",
    "        result['tweet']['user_name'],\n",
    "        result['tweet']['tweetURL'],\n",
    "        result['tweet']['text'],\n",
    "        result['answer']['reasoning'],\n",
    "        result['answer']['final_answer'],\n",
    "        \"\", # no gold label meanwhile\n",
    "        result['tweet']['tweetID']\n",
    "    ]\n",
    "    data = [pred_row]\n",
    "\n",
    "    # add data to table\n",
    "    table =  wandb.Table(data=data, columns=columns)\n",
    "    artifact.add(table, \"predictions\")\n",
    "\n",
    "    # log immediately since we don't know when user will close the session\n",
    "    wandb.log_artifact(artifact)\n",
    "    \n",
    "\n",
    "    \n",
    "\n",
    "    \n"
   ]
  },
  {
   "cell_type": "code",
   "execution_count": 2,
   "metadata": {},
   "outputs": [
    {
     "data": {
      "text/plain": [
       "'geKy3pHc'"
      ]
     },
     "execution_count": 2,
     "metadata": {},
     "output_type": "execute_result"
    }
   ],
   "source": [
    "\n",
    "shortuuid.ShortUUID().random(length=8)"
   ]
  },
  {
   "cell_type": "code",
   "execution_count": 3,
   "metadata": {},
   "outputs": [],
   "source": [
    "config = init_config()"
   ]
  },
  {
   "cell_type": "code",
   "execution_count": 4,
   "metadata": {},
   "outputs": [
    {
     "name": "stdout",
     "output_type": "stream",
     "text": [
      "[model]\n",
      "model_name = \"mistralai/mistral-7b-instruct\"\n",
      "temperature = 0.6\n",
      "\n",
      "[prompt]\n",
      "template_path = \"desci_sense/prompting/templates/p1.txt\"\n",
      "\n",
      "[wandb]\n",
      "wand_entity = \"common-sense-makers\"\n",
      "wandb_db_name = \"test-DB\"\n"
     ]
    }
   ],
   "source": [
    "print(config.to_str())"
   ]
  },
  {
   "cell_type": "code",
   "execution_count": 5,
   "metadata": {},
   "outputs": [
    {
     "name": "stderr",
     "output_type": "stream",
     "text": [
      "Failed to detect the name of this notebook, you can set it manually with the WANDB_NOTEBOOK_NAME environment variable to enable code saving.\n",
      "\u001b[34m\u001b[1mwandb\u001b[0m: Currently logged in as: \u001b[33mronentk\u001b[0m (\u001b[33mcommon-sense-makers\u001b[0m). Use \u001b[1m`wandb login --relogin`\u001b[0m to force relogin\n"
     ]
    },
    {
     "data": {
      "text/html": [
       "Tracking run with wandb version 0.15.12"
      ],
      "text/plain": [
       "<IPython.core.display.HTML object>"
      ]
     },
     "metadata": {},
     "output_type": "display_data"
    },
    {
     "data": {
      "text/html": [
       "Run data is saved locally in <code>/home/rkl25/dev/common_sense/desci-sense/notebooks/wandb/run-20231106_153657-skouh4x8</code>"
      ],
      "text/plain": [
       "<IPython.core.display.HTML object>"
      ]
     },
     "metadata": {},
     "output_type": "display_data"
    },
    {
     "data": {
      "text/html": [
       "Syncing run <strong><a href='https://wandb.ai/common-sense-makers/st-demo/runs/skouh4x8' target=\"_blank\">rural-feather-4</a></strong> to <a href='https://wandb.ai/common-sense-makers/st-demo' target=\"_blank\">Weights & Biases</a> (<a href='https://wandb.me/run' target=\"_blank\">docs</a>)<br/>"
      ],
      "text/plain": [
       "<IPython.core.display.HTML object>"
      ]
     },
     "metadata": {},
     "output_type": "display_data"
    },
    {
     "data": {
      "text/html": [
       " View project at <a href='https://wandb.ai/common-sense-makers/st-demo' target=\"_blank\">https://wandb.ai/common-sense-makers/st-demo</a>"
      ],
      "text/plain": [
       "<IPython.core.display.HTML object>"
      ]
     },
     "metadata": {},
     "output_type": "display_data"
    },
    {
     "data": {
      "text/html": [
       " View run at <a href='https://wandb.ai/common-sense-makers/st-demo/runs/skouh4x8' target=\"_blank\">https://wandb.ai/common-sense-makers/st-demo/runs/skouh4x8</a>"
      ],
      "text/plain": [
       "<IPython.core.display.HTML object>"
      ]
     },
     "metadata": {},
     "output_type": "display_data"
    }
   ],
   "source": [
    "wandb_run = wandb.init(job_type=\"demo\",project=\"st-demo\", config=config, \n",
    "                                       entity=config[\"wandb\"][\"wand_entity\"])"
   ]
  },
  {
   "cell_type": "code",
   "execution_count": 6,
   "metadata": {},
   "outputs": [
    {
     "data": {
      "text/plain": [
       "'skouh4x8'"
      ]
     },
     "execution_count": 6,
     "metadata": {},
     "output_type": "execute_result"
    }
   ],
   "source": [
    "wandb_run.id"
   ]
  },
  {
   "cell_type": "code",
   "execution_count": 7,
   "metadata": {},
   "outputs": [],
   "source": [
    "artifact = wandb.Artifact(f\"pred_table_{wandb_run.id}\", type=\"prediction\")"
   ]
  },
  {
   "cell_type": "code",
   "execution_count": 8,
   "metadata": {},
   "outputs": [],
   "source": [
    "columns = [\"User\", \"URL\", \"Text\", \"Reasoning Steps\", \"Predicted Label\", \"True Label\", \"Tweet ID\" ,\"UID\"]"
   ]
  },
  {
   "cell_type": "code",
   "execution_count": 9,
   "metadata": {},
   "outputs": [],
   "source": [
    "pred_1 = {'tweet': {'conversationID': '1719789465739333972',\n",
    "  'date': 'Wed Nov 01 18:52:15 +0000 2023',\n",
    "  'date_epoch': 1698864735,\n",
    "  'hashtags': [],\n",
    "  'likes': 91,\n",
    "  'mediaURLs': ['https://pbs.twimg.com/media/F92_tj1asAAAoR-.jpg'],\n",
    "  'media_extended': [{'altText': None,\n",
    "    'size': {'height': 1279, 'width': 3199},\n",
    "    'thumbnail_url': 'https://pbs.twimg.com/media/F92_tj1asAAAoR-.jpg',\n",
    "    'type': 'image',\n",
    "    'url': 'https://pbs.twimg.com/media/F92_tj1asAAAoR-.jpg'}],\n",
    "  'possibly_sensitive': False,\n",
    "  'qrtURL': None,\n",
    "  'replies': 2,\n",
    "  'retweets': 46,\n",
    "  'text': 'My department at Univ Washington in Seattle is searching for a tenure-track assistant prof in \"Quantitative Understanding of Collective Behavior\" @UWBiology\\n\\nSee ad for more info about the search vision and to apply; happy to answer questions!\\n\\nhttps://apply.interfolio.com/130336 https://t.co/ydKZVuAeeY',\n",
    "  'tweetID': '1719789465739333972',\n",
    "  'tweetURL': 'https://twitter.com/bingbrunton/status/1719789465739333972',\n",
    "  'user_name': 'Bing Wen Brunton',\n",
    "  'user_screen_name': 'bingbrunton'},\n",
    " 'answer': {'reasoning': '1. The post contains a job listing for a tenure-track assistant professor position.\\n2. The position is in the field of \"Quantitative Understanding of Collective Behavior\" within the Department of Biology at the University of Washington in Seattle.\\n3. The post includes a link to the job ad with more information and a call to apply.\\n4. The post also includes a contact person for questions.\\n\\nCandidate Tags:\\n\\n* <job>: The post describes a job listing, specifically for a tenure-track assistant professor position in the field of \"Quantitative Understanding of Collective Behavior\" at the University of Washington.\\n* <other>: This tag could be used if the post did not contain a clear job listing, but it is included here since the post clearly describes a job opportunity.',\n",
    "  'final_answer': '<job>'}}"
   ]
  },
  {
   "cell_type": "code",
   "execution_count": 10,
   "metadata": {},
   "outputs": [
    {
     "data": {
      "text/plain": [
       "['Bing Wen Brunton',\n",
       " 'https://twitter.com/bingbrunton/status/1719789465739333972',\n",
       " 'My department at Univ Washington in Seattle is searching for a tenure-track assistant prof in \"Quantitative Understanding of Collective Behavior\" @UWBiology\\n\\nSee ad for more info about the search vision and to apply; happy to answer questions!\\n\\nhttps://apply.interfolio.com/130336 https://t.co/ydKZVuAeeY',\n",
       " '1. The post contains a job listing for a tenure-track assistant professor position.\\n2. The position is in the field of \"Quantitative Understanding of Collective Behavior\" within the Department of Biology at the University of Washington in Seattle.\\n3. The post includes a link to the job ad with more information and a call to apply.\\n4. The post also includes a contact person for questions.\\n\\nCandidate Tags:\\n\\n* <job>: The post describes a job listing, specifically for a tenure-track assistant professor position in the field of \"Quantitative Understanding of Collective Behavior\" at the University of Washington.\\n* <other>: This tag could be used if the post did not contain a clear job listing, but it is included here since the post clearly describes a job opportunity.',\n",
       " '<job>',\n",
       " '',\n",
       " '1719789465739333972',\n",
       " 'obnkvArH']"
      ]
     },
     "execution_count": 10,
     "metadata": {},
     "output_type": "execute_result"
    }
   ],
   "source": [
    "pred_1_row = [\n",
    "    pred_1['tweet']['user_name'],\n",
    "    pred_1['tweet']['tweetURL'],\n",
    "    pred_1['tweet']['text'],\n",
    "    pred_1['answer']['reasoning'],\n",
    "    pred_1['answer']['final_answer'],\n",
    "    \"\", # no gold label\n",
    "    pred_1['tweet']['tweetID'],\n",
    "    shortuuid.ShortUUID().random(length=8)\n",
    "]\n",
    "pred_1_row"
   ]
  },
  {
   "cell_type": "code",
   "execution_count": 11,
   "metadata": {},
   "outputs": [],
   "source": [
    "data = [pred_1_row]"
   ]
  },
  {
   "cell_type": "code",
   "execution_count": 12,
   "metadata": {},
   "outputs": [],
   "source": [
    "table =  wandb.Table(data=data, columns=columns)\n",
    "artifact.add(table, \"predictions\")"
   ]
  },
  {
   "cell_type": "code",
   "execution_count": 13,
   "metadata": {},
   "outputs": [
    {
     "data": {
      "text/plain": [
       "ArtifactManifestEntry(path='predictions.table.json', digest='0+9p49HqNUoqg6gF7WjDSQ==', size=2331, local_path='/home/rkl25/.local/share/wandb/artifacts/staging/tmp9wfooy9i')"
      ]
     },
     "execution_count": 13,
     "metadata": {},
     "output_type": "execute_result"
    }
   ],
   "source": [
    "artifact.add(table, \"predictions\")"
   ]
  },
  {
   "cell_type": "code",
   "execution_count": 14,
   "metadata": {},
   "outputs": [
    {
     "data": {
      "text/plain": [
       "<Artifact pred_table_skouh4x8>"
      ]
     },
     "execution_count": 14,
     "metadata": {},
     "output_type": "execute_result"
    }
   ],
   "source": [
    "wandb.log_artifact(artifact)"
   ]
  },
  {
   "cell_type": "code",
   "execution_count": 15,
   "metadata": {},
   "outputs": [
    {
     "data": {
      "text/html": [
       "Waiting for W&B process to finish... <strong style=\"color:green\">(success).</strong>"
      ],
      "text/plain": [
       "<IPython.core.display.HTML object>"
      ]
     },
     "metadata": {},
     "output_type": "display_data"
    },
    {
     "name": "stderr",
     "output_type": "stream",
     "text": [
      "wandb: WARNING Source type is set to 'repo' but some required information is missing from the environment. A job will not be created from this run. See https://docs.wandb.ai/guides/launch/create-job\n"
     ]
    },
    {
     "data": {
      "text/html": [
       " View run <strong style=\"color:#cdcd00\">rural-feather-4</strong> at: <a href='https://wandb.ai/common-sense-makers/st-demo/runs/skouh4x8' target=\"_blank\">https://wandb.ai/common-sense-makers/st-demo/runs/skouh4x8</a><br/>Synced 5 W&B file(s), 0 media file(s), 1 artifact file(s) and 0 other file(s)"
      ],
      "text/plain": [
       "<IPython.core.display.HTML object>"
      ]
     },
     "metadata": {},
     "output_type": "display_data"
    },
    {
     "data": {
      "text/html": [
       "Find logs at: <code>./wandb/run-20231106_153657-skouh4x8/logs</code>"
      ],
      "text/plain": [
       "<IPython.core.display.HTML object>"
      ]
     },
     "metadata": {},
     "output_type": "display_data"
    }
   ],
   "source": [
    "wandb.finish()"
   ]
  },
  {
   "cell_type": "code",
   "execution_count": 12,
   "metadata": {},
   "outputs": [],
   "source": [
    "ROOT = Path.cwd().parent \n",
    "cfg_path = ROOT / \"etc\" / \"configs\" / \"sample_config.cfg\""
   ]
  },
  {
   "cell_type": "code",
   "execution_count": 13,
   "metadata": {},
   "outputs": [
    {
     "data": {
      "text/plain": [
       "True"
      ]
     },
     "execution_count": 13,
     "metadata": {},
     "output_type": "execute_result"
    }
   ],
   "source": [
    "cfg_path.exists()"
   ]
  },
  {
   "cell_type": "code",
   "execution_count": 3,
   "metadata": {},
   "outputs": [],
   "source": [
    "config = Config().from_disk(str(cfg_path))"
   ]
  },
  {
   "cell_type": "code",
   "execution_count": 5,
   "metadata": {},
   "outputs": [
    {
     "data": {
      "text/plain": [
       "'desci_sense/prompting/templates/p1.txt'"
      ]
     },
     "execution_count": 5,
     "metadata": {},
     "output_type": "execute_result"
    }
   ],
   "source": [
    "config[\"prompt\"][\"template_path\"]"
   ]
  },
  {
   "cell_type": "code",
   "execution_count": 10,
   "metadata": {},
   "outputs": [
    {
     "name": "stdout",
     "output_type": "stream",
     "text": [
      "You are an expert annotator who tags social media posts related to academic research, according to a predefined set of tags. \n",
      "The available tag types are:\n",
      "<announce>: this post contains an announcement of new research. The announcement is likely made by the authors but may be a third party. The research should be a paper, dataset or other type of research output that is being announced publicly.\n",
      "<review>: this post contains a review of another reference, such as a book, article or movie. The review could be positive or negative. A review can be detailed or a simple short endorsement.\n",
      "<job>: this post describes a job listing, for example a call for graduate students or faculty applications.\n",
      "<event>: this post describes an event, either real-world or an online event. Any kind of event is relevant, some examples of events could be seminars, meetups, or hackathons.\n",
      "<other>: This is a special tag. Use this tag if none of the tags above are suitable. If you tag a post with <other>, no other tag should be assigned to the post.\n",
      "\n",
      "A user will pass in a post, and you should think step by step, before a single tag that best matches the post.\n",
      "\n",
      "Your final answer should be structured as follows:\n",
      "Reasoning Steps: (your reasoning steps)\n",
      "Candidate Tags: (For potential each tag you choose, explain why you chose it.)\n",
      "Final Answer: (a final single tag, based on the Candidate Tags. The final tag must be included in the Candidate Tags list!)\n",
      "\n",
      "Remember:\n",
      "Do not make up any new tags that are not in the list above!\n",
      "Only choose one final tag!\n"
     ]
    }
   ],
   "source": [
    "prompt_path = ROOT / config[\"prompt\"][\"template_path\"]\n",
    "print(prompt_path.read_text())"
   ]
  },
  {
   "cell_type": "code",
   "execution_count": 2,
   "metadata": {},
   "outputs": [
    {
     "name": "stderr",
     "output_type": "stream",
     "text": [
      "Failed to detect the name of this notebook, you can set it manually with the WANDB_NOTEBOOK_NAME environment variable to enable code saving.\n",
      "\u001b[34m\u001b[1mwandb\u001b[0m: Currently logged in as: \u001b[33mronentk\u001b[0m (\u001b[33mcommon-sense-makers\u001b[0m). Use \u001b[1m`wandb login --relogin`\u001b[0m to force relogin\n"
     ]
    },
    {
     "data": {
      "text/html": [
       "Tracking run with wandb version 0.15.12"
      ],
      "text/plain": [
       "<IPython.core.display.HTML object>"
      ]
     },
     "metadata": {},
     "output_type": "display_data"
    },
    {
     "data": {
      "text/html": [
       "Run data is saved locally in <code>/home/rkl25/dev/common_sense/desci-sense/notebooks/wandb/run-20231106_100943-v2jjejh2</code>"
      ],
      "text/plain": [
       "<IPython.core.display.HTML object>"
      ]
     },
     "metadata": {},
     "output_type": "display_data"
    },
    {
     "data": {
      "text/html": [
       "Syncing run <strong><a href='https://wandb.ai/common-sense-makers/testing/runs/v2jjejh2' target=\"_blank\">earthy-armadillo-4</a></strong> to <a href='https://wandb.ai/common-sense-makers/testing' target=\"_blank\">Weights & Biases</a> (<a href='https://wandb.me/run' target=\"_blank\">docs</a>)<br/>"
      ],
      "text/plain": [
       "<IPython.core.display.HTML object>"
      ]
     },
     "metadata": {},
     "output_type": "display_data"
    },
    {
     "data": {
      "text/html": [
       " View project at <a href='https://wandb.ai/common-sense-makers/testing' target=\"_blank\">https://wandb.ai/common-sense-makers/testing</a>"
      ],
      "text/plain": [
       "<IPython.core.display.HTML object>"
      ]
     },
     "metadata": {},
     "output_type": "display_data"
    },
    {
     "data": {
      "text/html": [
       " View run at <a href='https://wandb.ai/common-sense-makers/testing/runs/v2jjejh2' target=\"_blank\">https://wandb.ai/common-sense-makers/testing/runs/v2jjejh2</a>"
      ],
      "text/plain": [
       "<IPython.core.display.HTML object>"
      ]
     },
     "metadata": {},
     "output_type": "display_data"
    }
   ],
   "source": [
    "wandb_run = wandb.init(job_type=\"demo\",project=\"testing\", \n",
    "                                       entity=WANDB_ENTITY)"
   ]
  },
  {
   "cell_type": "code",
   "execution_count": 3,
   "metadata": {},
   "outputs": [
    {
     "data": {
      "text/plain": [
       "<Artifact my_table>"
      ]
     },
     "execution_count": 3,
     "metadata": {},
     "output_type": "execute_result"
    }
   ],
   "source": [
    "artifact = wandb.Artifact(\"my_table\", type=\"dataset\")\n",
    "\n",
    "table = wandb.Table(\n",
    "    columns=[\"a\", \"b\", \"c\"], data=[(i, i * 2, 2**i) for i in range(10)]\n",
    ")\n",
    "artifact.add(table, \"my_table\")\n",
    "\n",
    "wandb.log_artifact(artifact)"
   ]
  },
  {
   "cell_type": "code",
   "execution_count": 4,
   "metadata": {},
   "outputs": [
    {
     "data": {
      "text/html": [
       "Waiting for W&B process to finish... <strong style=\"color:green\">(success).</strong>"
      ],
      "text/plain": [
       "<IPython.core.display.HTML object>"
      ]
     },
     "metadata": {},
     "output_type": "display_data"
    },
    {
     "name": "stderr",
     "output_type": "stream",
     "text": [
      "wandb: WARNING Source type is set to 'repo' but some required information is missing from the environment. A job will not be created from this run. See https://docs.wandb.ai/guides/launch/create-job\n"
     ]
    },
    {
     "data": {
      "text/html": [
       " View run <strong style=\"color:#cdcd00\">youthful-snowflake-2</strong> at: <a href='https://wandb.ai/common-sense-makers/testing/runs/y2751x8f' target=\"_blank\">https://wandb.ai/common-sense-makers/testing/runs/y2751x8f</a><br/>Synced 5 W&B file(s), 0 media file(s), 0 artifact file(s) and 0 other file(s)"
      ],
      "text/plain": [
       "<IPython.core.display.HTML object>"
      ]
     },
     "metadata": {},
     "output_type": "display_data"
    },
    {
     "data": {
      "text/html": [
       "Find logs at: <code>./wandb/run-20231106_095615-y2751x8f/logs</code>"
      ],
      "text/plain": [
       "<IPython.core.display.HTML object>"
      ]
     },
     "metadata": {},
     "output_type": "display_data"
    }
   ],
   "source": [
    "wandb.finish()"
   ]
  },
  {
   "cell_type": "code",
   "execution_count": 4,
   "metadata": {},
   "outputs": [],
   "source": [
    "artifact = wandb.use_artifact(\"my_table:latest\")"
   ]
  },
  {
   "cell_type": "code",
   "execution_count": 6,
   "metadata": {},
   "outputs": [],
   "source": [
    "table = wandb.Table(\n",
    "    columns=[\"d\", \"e\", \"f\"], data=[(i, i * 2, 2**i) for i in range(10)]\n",
    ")"
   ]
  },
  {
   "cell_type": "code",
   "execution_count": 7,
   "metadata": {},
   "outputs": [
    {
     "ename": "ArtifactFinalizedError",
     "evalue": "'Artifact' used on logged artifact. Can't modify finalized artifact.",
     "output_type": "error",
     "traceback": [
      "\u001b[0;31m---------------------------------------------------------------------------\u001b[0m",
      "\u001b[0;31mArtifactFinalizedError\u001b[0m                    Traceback (most recent call last)",
      "\u001b[1;32m/home/rkl25/dev/common_sense/desci-sense/notebooks/wandb_test.ipynb Cell 8\u001b[0m line \u001b[0;36m1\n\u001b[0;32m----> <a href='vscode-notebook-cell:/home/rkl25/dev/common_sense/desci-sense/notebooks/wandb_test.ipynb#W6sZmlsZQ%3D%3D?line=0'>1</a>\u001b[0m artifact\u001b[39m.\u001b[39madd(table, \u001b[39m\"\u001b[39m\u001b[39mmy_table\u001b[39m\u001b[39m\"\u001b[39m)\n",
      "File \u001b[0;32m~/anaconda3/envs/twscraping/lib/python3.11/site-packages/wandb/sdk/artifacts/artifact.py:1383\u001b[0m, in \u001b[0;36mArtifact.add\u001b[0;34m(self, obj, name)\u001b[0m\n\u001b[1;32m   1350\u001b[0m \u001b[39mdef\u001b[39;00m \u001b[39madd\u001b[39m(\u001b[39mself\u001b[39m, obj: data_types\u001b[39m.\u001b[39mWBValue, name: StrPath) \u001b[39m-\u001b[39m\u001b[39m>\u001b[39m ArtifactManifestEntry:\n\u001b[1;32m   1351\u001b[0m \u001b[39m    \u001b[39m\u001b[39m\"\"\"Add wandb.WBValue `obj` to the artifact.\u001b[39;00m\n\u001b[1;32m   1352\u001b[0m \n\u001b[1;32m   1353\u001b[0m \u001b[39m    Arguments:\u001b[39;00m\n\u001b[0;32m   (...)\u001b[0m\n\u001b[1;32m   1381\u001b[0m \u001b[39m        ```\u001b[39;00m\n\u001b[1;32m   1382\u001b[0m \u001b[39m    \"\"\"\u001b[39;00m\n\u001b[0;32m-> 1383\u001b[0m     \u001b[39mself\u001b[39m\u001b[39m.\u001b[39m_ensure_can_add()\n\u001b[1;32m   1384\u001b[0m     name \u001b[39m=\u001b[39m LogicalPath(name)\n\u001b[1;32m   1386\u001b[0m     \u001b[39m# This is a \"hack\" to automatically rename tables added to\u001b[39;00m\n\u001b[1;32m   1387\u001b[0m     \u001b[39m# the wandb /media/tables directory to their sha-based name.\u001b[39;00m\n\u001b[1;32m   1388\u001b[0m     \u001b[39m# TODO: figure out a more appropriate convention.\u001b[39;00m\n",
      "File \u001b[0;32m~/anaconda3/envs/twscraping/lib/python3.11/site-packages/wandb/sdk/artifacts/artifact.py:701\u001b[0m, in \u001b[0;36mArtifact._ensure_can_add\u001b[0;34m(self)\u001b[0m\n\u001b[1;32m    699\u001b[0m \u001b[39mdef\u001b[39;00m \u001b[39m_ensure_can_add\u001b[39m(\u001b[39mself\u001b[39m) \u001b[39m-\u001b[39m\u001b[39m>\u001b[39m \u001b[39mNone\u001b[39;00m:\n\u001b[1;32m    700\u001b[0m     \u001b[39mif\u001b[39;00m \u001b[39mself\u001b[39m\u001b[39m.\u001b[39m_final:\n\u001b[0;32m--> 701\u001b[0m         \u001b[39mraise\u001b[39;00m ArtifactFinalizedError(artifact\u001b[39m=\u001b[39m\u001b[39mself\u001b[39m)\n",
      "\u001b[0;31mArtifactFinalizedError\u001b[0m: 'Artifact' used on logged artifact. Can't modify finalized artifact."
     ]
    }
   ],
   "source": [
    "artifact.add(table, \"my_table\")"
   ]
  },
  {
   "cell_type": "code",
   "execution_count": 8,
   "metadata": {},
   "outputs": [],
   "source": [
    "tweet_example = {'conversationID': '1720443327663714559',\n",
    " 'date': 'Fri Nov 03 14:10:28 +0000 2023',\n",
    " 'date_epoch': 1699020628,\n",
    " 'hashtags': [],\n",
    " 'likes': 0,\n",
    " 'mediaURLs': [],\n",
    " 'media_extended': [],\n",
    " 'possibly_sensitive': False,\n",
    " 'qrtURL': 'https://twitter.com/i/status/1720425661813465096',\n",
    " 'replies': 3,\n",
    " 'retweets': 0,\n",
    " 'text': 'I have no idea why this is not entirely obvious!  Are people just completely stupid!',\n",
    " 'tweetID': '1720443327663714559',\n",
    " 'tweetURL': 'https://twitter.com/IntuitMachine/status/1720443327663714559',\n",
    " 'user_name': 'Carlos E. Perez',\n",
    " 'user_screen_name': 'IntuitMachine'}\n",
    "\n"
   ]
  },
  {
   "cell_type": "code",
   "execution_count": 3,
   "metadata": {},
   "outputs": [],
   "source": [
    "result = {'tweet': {'conversationID': '1719789465739333972',\n",
    "  'date': 'Wed Nov 01 18:52:15 +0000 2023',\n",
    "  'date_epoch': 1698864735,\n",
    "  'hashtags': [],\n",
    "  'likes': 91,\n",
    "  'mediaURLs': ['https://pbs.twimg.com/media/F92_tj1asAAAoR-.jpg'],\n",
    "  'media_extended': [{'altText': None,\n",
    "    'size': {'height': 1279, 'width': 3199},\n",
    "    'thumbnail_url': 'https://pbs.twimg.com/media/F92_tj1asAAAoR-.jpg',\n",
    "    'type': 'image',\n",
    "    'url': 'https://pbs.twimg.com/media/F92_tj1asAAAoR-.jpg'}],\n",
    "  'possibly_sensitive': False,\n",
    "  'qrtURL': None,\n",
    "  'replies': 2,\n",
    "  'retweets': 46,\n",
    "  'text': 'My department at Univ Washington in Seattle is searching for a tenure-track assistant prof in \"Quantitative Understanding of Collective Behavior\" @UWBiology\\n\\nSee ad for more info about the search vision and to apply; happy to answer questions!\\n\\nhttps://apply.interfolio.com/130336 https://t.co/ydKZVuAeeY',\n",
    "  'tweetID': '1719789465739333972',\n",
    "  'tweetURL': 'https://twitter.com/bingbrunton/status/1719789465739333972',\n",
    "  'user_name': 'Bing Wen Brunton',\n",
    "  'user_screen_name': 'bingbrunton'},\n",
    " 'answer': {'reasoning': '1. The post contains a job listing for a tenure-track assistant professor position.\\n2. The position is in the field of \"Quantitative Understanding of Collective Behavior\" within the Department of Biology at the University of Washington in Seattle.\\n3. The post includes a link to the job ad with more information and a call to apply.\\n4. The post also includes a contact person for questions.\\n\\nCandidate Tags:\\n\\n* <job>: The post describes a job listing, specifically for a tenure-track assistant professor position in the field of \"Quantitative Understanding of Collective Behavior\" at the University of Washington.\\n* <other>: This tag could be used if the post did not contain a clear job listing, but it is included here since the post clearly describes a job opportunity.',\n",
    "  'final_answer': '<job>'}}"
   ]
  },
  {
   "cell_type": "code",
   "execution_count": 10,
   "metadata": {},
   "outputs": [],
   "source": [
    "answer = {'reasoning': '1. The post contains a job listing for a tenure-track assistant professor position.\\n2. The position is in the field of \"Quantitative Understanding of Collective Behavior\" within the Department of Biology at the University of Washington in Seattle.\\n3. The post includes a link to the job ad with more information and a call to apply.\\n4. The post also includes a contact person for questions.\\n\\nCandidate Tags:\\n\\n* <job>: The post describes a job listing, specifically for a tenure-track assistant professor position in the field of \"Quantitative Understanding of Collective Behavior\" at the University of Washington.\\n* <other>: This tag could be used if the post did not contain a clear job listing, but it is included here since the post clearly describes a job opportunity.',\n",
    "  'final_answer': '<job>'}"
   ]
  },
  {
   "cell_type": "code",
   "execution_count": 9,
   "metadata": {},
   "outputs": [],
   "source": [
    "wandb_run.log(tweet_example)"
   ]
  },
  {
   "cell_type": "code",
   "execution_count": 4,
   "metadata": {},
   "outputs": [],
   "source": [
    "wandb_run.log(result)"
   ]
  },
  {
   "cell_type": "code",
   "execution_count": 5,
   "metadata": {},
   "outputs": [
    {
     "data": {
      "text/html": [
       "Waiting for W&B process to finish... <strong style=\"color:green\">(success).</strong>"
      ],
      "text/plain": [
       "<IPython.core.display.HTML object>"
      ]
     },
     "metadata": {},
     "output_type": "display_data"
    },
    {
     "name": "stderr",
     "output_type": "stream",
     "text": [
      "wandb: WARNING Source type is set to 'repo' but some required information is missing from the environment. A job will not be created from this run. See https://docs.wandb.ai/guides/launch/create-job\n"
     ]
    },
    {
     "data": {
      "text/html": [
       " View run <strong style=\"color:#cdcd00\">earthy-armadillo-4</strong> at: <a href='https://wandb.ai/common-sense-makers/testing/runs/v2jjejh2' target=\"_blank\">https://wandb.ai/common-sense-makers/testing/runs/v2jjejh2</a><br/>Synced 5 W&B file(s), 0 media file(s), 0 artifact file(s) and 0 other file(s)"
      ],
      "text/plain": [
       "<IPython.core.display.HTML object>"
      ]
     },
     "metadata": {},
     "output_type": "display_data"
    },
    {
     "data": {
      "text/html": [
       "Find logs at: <code>./wandb/run-20231106_100943-v2jjejh2/logs</code>"
      ],
      "text/plain": [
       "<IPython.core.display.HTML object>"
      ]
     },
     "metadata": {},
     "output_type": "display_data"
    }
   ],
   "source": [
    "wandb_run.finish()"
   ]
  }
 ],
 "metadata": {
  "kernelspec": {
   "display_name": "twscraping",
   "language": "python",
   "name": "python3"
  },
  "language_info": {
   "codemirror_mode": {
    "name": "ipython",
    "version": 3
   },
   "file_extension": ".py",
   "mimetype": "text/x-python",
   "name": "python",
   "nbconvert_exporter": "python",
   "pygments_lexer": "ipython3",
   "version": "3.11.5"
  }
 },
 "nbformat": 4,
 "nbformat_minor": 2
}
