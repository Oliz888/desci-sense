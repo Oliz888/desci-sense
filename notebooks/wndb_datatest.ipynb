{
  "nbformat": 4,
  "nbformat_minor": 0,
  "metadata": {
    "colab": {
      "provenance": []
    },
    "kernelspec": {
      "name": "python3",
      "display_name": "Python 3"
    },
    "language_info": {
      "name": "python"
    },
    "widgets": {
      "application/vnd.jupyter.widget-state+json": {
        "2ab8a01ea31f4f6590a8ee703db2456e": {
          "model_module": "@jupyter-widgets/controls",
          "model_name": "VBoxModel",
          "model_module_version": "1.5.0",
          "state": {
            "_dom_classes": [],
            "_model_module": "@jupyter-widgets/controls",
            "_model_module_version": "1.5.0",
            "_model_name": "VBoxModel",
            "_view_count": null,
            "_view_module": "@jupyter-widgets/controls",
            "_view_module_version": "1.5.0",
            "_view_name": "VBoxView",
            "box_style": "",
            "children": [
              "IPY_MODEL_510253d7e28447368159d9254deb1bd3",
              "IPY_MODEL_8621f47724cf41a78a4b9ba0966b6ea5"
            ],
            "layout": "IPY_MODEL_afee94fec2294dfa89ed87b46ed0c6dd"
          }
        },
        "510253d7e28447368159d9254deb1bd3": {
          "model_module": "@jupyter-widgets/controls",
          "model_name": "LabelModel",
          "model_module_version": "1.5.0",
          "state": {
            "_dom_classes": [],
            "_model_module": "@jupyter-widgets/controls",
            "_model_module_version": "1.5.0",
            "_model_name": "LabelModel",
            "_view_count": null,
            "_view_module": "@jupyter-widgets/controls",
            "_view_module_version": "1.5.0",
            "_view_name": "LabelView",
            "description": "",
            "description_tooltip": null,
            "layout": "IPY_MODEL_d84a96a42e314cd5b2ffad455572e921",
            "placeholder": "​",
            "style": "IPY_MODEL_f00b6fb6107e405896d32e82dd4c5e0a",
            "value": "0.094 MB of 0.094 MB uploaded\r"
          }
        },
        "8621f47724cf41a78a4b9ba0966b6ea5": {
          "model_module": "@jupyter-widgets/controls",
          "model_name": "FloatProgressModel",
          "model_module_version": "1.5.0",
          "state": {
            "_dom_classes": [],
            "_model_module": "@jupyter-widgets/controls",
            "_model_module_version": "1.5.0",
            "_model_name": "FloatProgressModel",
            "_view_count": null,
            "_view_module": "@jupyter-widgets/controls",
            "_view_module_version": "1.5.0",
            "_view_name": "ProgressView",
            "bar_style": "",
            "description": "",
            "description_tooltip": null,
            "layout": "IPY_MODEL_f5353b6e7f4e48e494abe84bf8ff1076",
            "max": 1,
            "min": 0,
            "orientation": "horizontal",
            "style": "IPY_MODEL_301ce7b8cfcd45c2aefa7bc0a972382e",
            "value": 1
          }
        },
        "afee94fec2294dfa89ed87b46ed0c6dd": {
          "model_module": "@jupyter-widgets/base",
          "model_name": "LayoutModel",
          "model_module_version": "1.2.0",
          "state": {
            "_model_module": "@jupyter-widgets/base",
            "_model_module_version": "1.2.0",
            "_model_name": "LayoutModel",
            "_view_count": null,
            "_view_module": "@jupyter-widgets/base",
            "_view_module_version": "1.2.0",
            "_view_name": "LayoutView",
            "align_content": null,
            "align_items": null,
            "align_self": null,
            "border": null,
            "bottom": null,
            "display": null,
            "flex": null,
            "flex_flow": null,
            "grid_area": null,
            "grid_auto_columns": null,
            "grid_auto_flow": null,
            "grid_auto_rows": null,
            "grid_column": null,
            "grid_gap": null,
            "grid_row": null,
            "grid_template_areas": null,
            "grid_template_columns": null,
            "grid_template_rows": null,
            "height": null,
            "justify_content": null,
            "justify_items": null,
            "left": null,
            "margin": null,
            "max_height": null,
            "max_width": null,
            "min_height": null,
            "min_width": null,
            "object_fit": null,
            "object_position": null,
            "order": null,
            "overflow": null,
            "overflow_x": null,
            "overflow_y": null,
            "padding": null,
            "right": null,
            "top": null,
            "visibility": null,
            "width": null
          }
        },
        "d84a96a42e314cd5b2ffad455572e921": {
          "model_module": "@jupyter-widgets/base",
          "model_name": "LayoutModel",
          "model_module_version": "1.2.0",
          "state": {
            "_model_module": "@jupyter-widgets/base",
            "_model_module_version": "1.2.0",
            "_model_name": "LayoutModel",
            "_view_count": null,
            "_view_module": "@jupyter-widgets/base",
            "_view_module_version": "1.2.0",
            "_view_name": "LayoutView",
            "align_content": null,
            "align_items": null,
            "align_self": null,
            "border": null,
            "bottom": null,
            "display": null,
            "flex": null,
            "flex_flow": null,
            "grid_area": null,
            "grid_auto_columns": null,
            "grid_auto_flow": null,
            "grid_auto_rows": null,
            "grid_column": null,
            "grid_gap": null,
            "grid_row": null,
            "grid_template_areas": null,
            "grid_template_columns": null,
            "grid_template_rows": null,
            "height": null,
            "justify_content": null,
            "justify_items": null,
            "left": null,
            "margin": null,
            "max_height": null,
            "max_width": null,
            "min_height": null,
            "min_width": null,
            "object_fit": null,
            "object_position": null,
            "order": null,
            "overflow": null,
            "overflow_x": null,
            "overflow_y": null,
            "padding": null,
            "right": null,
            "top": null,
            "visibility": null,
            "width": null
          }
        },
        "f00b6fb6107e405896d32e82dd4c5e0a": {
          "model_module": "@jupyter-widgets/controls",
          "model_name": "DescriptionStyleModel",
          "model_module_version": "1.5.0",
          "state": {
            "_model_module": "@jupyter-widgets/controls",
            "_model_module_version": "1.5.0",
            "_model_name": "DescriptionStyleModel",
            "_view_count": null,
            "_view_module": "@jupyter-widgets/base",
            "_view_module_version": "1.2.0",
            "_view_name": "StyleView",
            "description_width": ""
          }
        },
        "f5353b6e7f4e48e494abe84bf8ff1076": {
          "model_module": "@jupyter-widgets/base",
          "model_name": "LayoutModel",
          "model_module_version": "1.2.0",
          "state": {
            "_model_module": "@jupyter-widgets/base",
            "_model_module_version": "1.2.0",
            "_model_name": "LayoutModel",
            "_view_count": null,
            "_view_module": "@jupyter-widgets/base",
            "_view_module_version": "1.2.0",
            "_view_name": "LayoutView",
            "align_content": null,
            "align_items": null,
            "align_self": null,
            "border": null,
            "bottom": null,
            "display": null,
            "flex": null,
            "flex_flow": null,
            "grid_area": null,
            "grid_auto_columns": null,
            "grid_auto_flow": null,
            "grid_auto_rows": null,
            "grid_column": null,
            "grid_gap": null,
            "grid_row": null,
            "grid_template_areas": null,
            "grid_template_columns": null,
            "grid_template_rows": null,
            "height": null,
            "justify_content": null,
            "justify_items": null,
            "left": null,
            "margin": null,
            "max_height": null,
            "max_width": null,
            "min_height": null,
            "min_width": null,
            "object_fit": null,
            "object_position": null,
            "order": null,
            "overflow": null,
            "overflow_x": null,
            "overflow_y": null,
            "padding": null,
            "right": null,
            "top": null,
            "visibility": null,
            "width": null
          }
        },
        "301ce7b8cfcd45c2aefa7bc0a972382e": {
          "model_module": "@jupyter-widgets/controls",
          "model_name": "ProgressStyleModel",
          "model_module_version": "1.5.0",
          "state": {
            "_model_module": "@jupyter-widgets/controls",
            "_model_module_version": "1.5.0",
            "_model_name": "ProgressStyleModel",
            "_view_count": null,
            "_view_module": "@jupyter-widgets/base",
            "_view_module_version": "1.2.0",
            "_view_name": "StyleView",
            "bar_color": null,
            "description_width": ""
          }
        },
        "8307e9813b8e4c738c59ec7612ecd2c2": {
          "model_module": "@jupyter-widgets/controls",
          "model_name": "VBoxModel",
          "model_module_version": "1.5.0",
          "state": {
            "_dom_classes": [],
            "_model_module": "@jupyter-widgets/controls",
            "_model_module_version": "1.5.0",
            "_model_name": "VBoxModel",
            "_view_count": null,
            "_view_module": "@jupyter-widgets/controls",
            "_view_module_version": "1.5.0",
            "_view_name": "VBoxView",
            "box_style": "",
            "children": [
              "IPY_MODEL_5a3dc362c0c9488985c6b7bd6d0290e9",
              "IPY_MODEL_3eb4665ad4f946bd8d9ef7f1d7fbd9f5"
            ],
            "layout": "IPY_MODEL_d5db689346534fa6bc936d9e6672d3c1"
          }
        },
        "5a3dc362c0c9488985c6b7bd6d0290e9": {
          "model_module": "@jupyter-widgets/controls",
          "model_name": "LabelModel",
          "model_module_version": "1.5.0",
          "state": {
            "_dom_classes": [],
            "_model_module": "@jupyter-widgets/controls",
            "_model_module_version": "1.5.0",
            "_model_name": "LabelModel",
            "_view_count": null,
            "_view_module": "@jupyter-widgets/controls",
            "_view_module_version": "1.5.0",
            "_view_name": "LabelView",
            "description": "",
            "description_tooltip": null,
            "layout": "IPY_MODEL_0cdd4fd14b3b4afab3541b2694941d37",
            "placeholder": "​",
            "style": "IPY_MODEL_ec96b21141e84b1d8a8c68940c9e799e",
            "value": "0.043 MB of 0.043 MB uploaded\r"
          }
        },
        "3eb4665ad4f946bd8d9ef7f1d7fbd9f5": {
          "model_module": "@jupyter-widgets/controls",
          "model_name": "FloatProgressModel",
          "model_module_version": "1.5.0",
          "state": {
            "_dom_classes": [],
            "_model_module": "@jupyter-widgets/controls",
            "_model_module_version": "1.5.0",
            "_model_name": "FloatProgressModel",
            "_view_count": null,
            "_view_module": "@jupyter-widgets/controls",
            "_view_module_version": "1.5.0",
            "_view_name": "ProgressView",
            "bar_style": "",
            "description": "",
            "description_tooltip": null,
            "layout": "IPY_MODEL_0c129099b9b443e6adb05514682ee04f",
            "max": 1,
            "min": 0,
            "orientation": "horizontal",
            "style": "IPY_MODEL_107f2b41ecfa46e08acb096d51d7a961",
            "value": 1
          }
        },
        "d5db689346534fa6bc936d9e6672d3c1": {
          "model_module": "@jupyter-widgets/base",
          "model_name": "LayoutModel",
          "model_module_version": "1.2.0",
          "state": {
            "_model_module": "@jupyter-widgets/base",
            "_model_module_version": "1.2.0",
            "_model_name": "LayoutModel",
            "_view_count": null,
            "_view_module": "@jupyter-widgets/base",
            "_view_module_version": "1.2.0",
            "_view_name": "LayoutView",
            "align_content": null,
            "align_items": null,
            "align_self": null,
            "border": null,
            "bottom": null,
            "display": null,
            "flex": null,
            "flex_flow": null,
            "grid_area": null,
            "grid_auto_columns": null,
            "grid_auto_flow": null,
            "grid_auto_rows": null,
            "grid_column": null,
            "grid_gap": null,
            "grid_row": null,
            "grid_template_areas": null,
            "grid_template_columns": null,
            "grid_template_rows": null,
            "height": null,
            "justify_content": null,
            "justify_items": null,
            "left": null,
            "margin": null,
            "max_height": null,
            "max_width": null,
            "min_height": null,
            "min_width": null,
            "object_fit": null,
            "object_position": null,
            "order": null,
            "overflow": null,
            "overflow_x": null,
            "overflow_y": null,
            "padding": null,
            "right": null,
            "top": null,
            "visibility": null,
            "width": null
          }
        },
        "0cdd4fd14b3b4afab3541b2694941d37": {
          "model_module": "@jupyter-widgets/base",
          "model_name": "LayoutModel",
          "model_module_version": "1.2.0",
          "state": {
            "_model_module": "@jupyter-widgets/base",
            "_model_module_version": "1.2.0",
            "_model_name": "LayoutModel",
            "_view_count": null,
            "_view_module": "@jupyter-widgets/base",
            "_view_module_version": "1.2.0",
            "_view_name": "LayoutView",
            "align_content": null,
            "align_items": null,
            "align_self": null,
            "border": null,
            "bottom": null,
            "display": null,
            "flex": null,
            "flex_flow": null,
            "grid_area": null,
            "grid_auto_columns": null,
            "grid_auto_flow": null,
            "grid_auto_rows": null,
            "grid_column": null,
            "grid_gap": null,
            "grid_row": null,
            "grid_template_areas": null,
            "grid_template_columns": null,
            "grid_template_rows": null,
            "height": null,
            "justify_content": null,
            "justify_items": null,
            "left": null,
            "margin": null,
            "max_height": null,
            "max_width": null,
            "min_height": null,
            "min_width": null,
            "object_fit": null,
            "object_position": null,
            "order": null,
            "overflow": null,
            "overflow_x": null,
            "overflow_y": null,
            "padding": null,
            "right": null,
            "top": null,
            "visibility": null,
            "width": null
          }
        },
        "ec96b21141e84b1d8a8c68940c9e799e": {
          "model_module": "@jupyter-widgets/controls",
          "model_name": "DescriptionStyleModel",
          "model_module_version": "1.5.0",
          "state": {
            "_model_module": "@jupyter-widgets/controls",
            "_model_module_version": "1.5.0",
            "_model_name": "DescriptionStyleModel",
            "_view_count": null,
            "_view_module": "@jupyter-widgets/base",
            "_view_module_version": "1.2.0",
            "_view_name": "StyleView",
            "description_width": ""
          }
        },
        "0c129099b9b443e6adb05514682ee04f": {
          "model_module": "@jupyter-widgets/base",
          "model_name": "LayoutModel",
          "model_module_version": "1.2.0",
          "state": {
            "_model_module": "@jupyter-widgets/base",
            "_model_module_version": "1.2.0",
            "_model_name": "LayoutModel",
            "_view_count": null,
            "_view_module": "@jupyter-widgets/base",
            "_view_module_version": "1.2.0",
            "_view_name": "LayoutView",
            "align_content": null,
            "align_items": null,
            "align_self": null,
            "border": null,
            "bottom": null,
            "display": null,
            "flex": null,
            "flex_flow": null,
            "grid_area": null,
            "grid_auto_columns": null,
            "grid_auto_flow": null,
            "grid_auto_rows": null,
            "grid_column": null,
            "grid_gap": null,
            "grid_row": null,
            "grid_template_areas": null,
            "grid_template_columns": null,
            "grid_template_rows": null,
            "height": null,
            "justify_content": null,
            "justify_items": null,
            "left": null,
            "margin": null,
            "max_height": null,
            "max_width": null,
            "min_height": null,
            "min_width": null,
            "object_fit": null,
            "object_position": null,
            "order": null,
            "overflow": null,
            "overflow_x": null,
            "overflow_y": null,
            "padding": null,
            "right": null,
            "top": null,
            "visibility": null,
            "width": null
          }
        },
        "107f2b41ecfa46e08acb096d51d7a961": {
          "model_module": "@jupyter-widgets/controls",
          "model_name": "ProgressStyleModel",
          "model_module_version": "1.5.0",
          "state": {
            "_model_module": "@jupyter-widgets/controls",
            "_model_module_version": "1.5.0",
            "_model_name": "ProgressStyleModel",
            "_view_count": null,
            "_view_module": "@jupyter-widgets/base",
            "_view_module_version": "1.2.0",
            "_view_name": "StyleView",
            "bar_color": null,
            "description_width": ""
          }
        },
        "0abc97e46afd4f5298747bc22c290d45": {
          "model_module": "@jupyter-widgets/controls",
          "model_name": "VBoxModel",
          "model_module_version": "1.5.0",
          "state": {
            "_dom_classes": [],
            "_model_module": "@jupyter-widgets/controls",
            "_model_module_version": "1.5.0",
            "_model_name": "VBoxModel",
            "_view_count": null,
            "_view_module": "@jupyter-widgets/controls",
            "_view_module_version": "1.5.0",
            "_view_name": "VBoxView",
            "box_style": "",
            "children": [
              "IPY_MODEL_8fc01288aa6945e4b5fde44bc8a6ec75",
              "IPY_MODEL_ae6c382aa3e841ef8509fef4c2fae1d9"
            ],
            "layout": "IPY_MODEL_bb1c48720c8844c1bf07051300eaf3ed"
          }
        },
        "8fc01288aa6945e4b5fde44bc8a6ec75": {
          "model_module": "@jupyter-widgets/controls",
          "model_name": "LabelModel",
          "model_module_version": "1.5.0",
          "state": {
            "_dom_classes": [],
            "_model_module": "@jupyter-widgets/controls",
            "_model_module_version": "1.5.0",
            "_model_name": "LabelModel",
            "_view_count": null,
            "_view_module": "@jupyter-widgets/controls",
            "_view_module_version": "1.5.0",
            "_view_name": "LabelView",
            "description": "",
            "description_tooltip": null,
            "layout": "IPY_MODEL_87644cfdd138487ab5c49f0124fe2a8d",
            "placeholder": "​",
            "style": "IPY_MODEL_febbf6c2a82e47d693f74487df4f6543",
            "value": "0.020 MB of 0.020 MB uploaded\r"
          }
        },
        "ae6c382aa3e841ef8509fef4c2fae1d9": {
          "model_module": "@jupyter-widgets/controls",
          "model_name": "FloatProgressModel",
          "model_module_version": "1.5.0",
          "state": {
            "_dom_classes": [],
            "_model_module": "@jupyter-widgets/controls",
            "_model_module_version": "1.5.0",
            "_model_name": "FloatProgressModel",
            "_view_count": null,
            "_view_module": "@jupyter-widgets/controls",
            "_view_module_version": "1.5.0",
            "_view_name": "ProgressView",
            "bar_style": "",
            "description": "",
            "description_tooltip": null,
            "layout": "IPY_MODEL_4a6509c5f1bd475a935bb21bee2b282a",
            "max": 1,
            "min": 0,
            "orientation": "horizontal",
            "style": "IPY_MODEL_0e9522832af64427adc8e01f9d8d2274",
            "value": 1
          }
        },
        "bb1c48720c8844c1bf07051300eaf3ed": {
          "model_module": "@jupyter-widgets/base",
          "model_name": "LayoutModel",
          "model_module_version": "1.2.0",
          "state": {
            "_model_module": "@jupyter-widgets/base",
            "_model_module_version": "1.2.0",
            "_model_name": "LayoutModel",
            "_view_count": null,
            "_view_module": "@jupyter-widgets/base",
            "_view_module_version": "1.2.0",
            "_view_name": "LayoutView",
            "align_content": null,
            "align_items": null,
            "align_self": null,
            "border": null,
            "bottom": null,
            "display": null,
            "flex": null,
            "flex_flow": null,
            "grid_area": null,
            "grid_auto_columns": null,
            "grid_auto_flow": null,
            "grid_auto_rows": null,
            "grid_column": null,
            "grid_gap": null,
            "grid_row": null,
            "grid_template_areas": null,
            "grid_template_columns": null,
            "grid_template_rows": null,
            "height": null,
            "justify_content": null,
            "justify_items": null,
            "left": null,
            "margin": null,
            "max_height": null,
            "max_width": null,
            "min_height": null,
            "min_width": null,
            "object_fit": null,
            "object_position": null,
            "order": null,
            "overflow": null,
            "overflow_x": null,
            "overflow_y": null,
            "padding": null,
            "right": null,
            "top": null,
            "visibility": null,
            "width": null
          }
        },
        "87644cfdd138487ab5c49f0124fe2a8d": {
          "model_module": "@jupyter-widgets/base",
          "model_name": "LayoutModel",
          "model_module_version": "1.2.0",
          "state": {
            "_model_module": "@jupyter-widgets/base",
            "_model_module_version": "1.2.0",
            "_model_name": "LayoutModel",
            "_view_count": null,
            "_view_module": "@jupyter-widgets/base",
            "_view_module_version": "1.2.0",
            "_view_name": "LayoutView",
            "align_content": null,
            "align_items": null,
            "align_self": null,
            "border": null,
            "bottom": null,
            "display": null,
            "flex": null,
            "flex_flow": null,
            "grid_area": null,
            "grid_auto_columns": null,
            "grid_auto_flow": null,
            "grid_auto_rows": null,
            "grid_column": null,
            "grid_gap": null,
            "grid_row": null,
            "grid_template_areas": null,
            "grid_template_columns": null,
            "grid_template_rows": null,
            "height": null,
            "justify_content": null,
            "justify_items": null,
            "left": null,
            "margin": null,
            "max_height": null,
            "max_width": null,
            "min_height": null,
            "min_width": null,
            "object_fit": null,
            "object_position": null,
            "order": null,
            "overflow": null,
            "overflow_x": null,
            "overflow_y": null,
            "padding": null,
            "right": null,
            "top": null,
            "visibility": null,
            "width": null
          }
        },
        "febbf6c2a82e47d693f74487df4f6543": {
          "model_module": "@jupyter-widgets/controls",
          "model_name": "DescriptionStyleModel",
          "model_module_version": "1.5.0",
          "state": {
            "_model_module": "@jupyter-widgets/controls",
            "_model_module_version": "1.5.0",
            "_model_name": "DescriptionStyleModel",
            "_view_count": null,
            "_view_module": "@jupyter-widgets/base",
            "_view_module_version": "1.2.0",
            "_view_name": "StyleView",
            "description_width": ""
          }
        },
        "4a6509c5f1bd475a935bb21bee2b282a": {
          "model_module": "@jupyter-widgets/base",
          "model_name": "LayoutModel",
          "model_module_version": "1.2.0",
          "state": {
            "_model_module": "@jupyter-widgets/base",
            "_model_module_version": "1.2.0",
            "_model_name": "LayoutModel",
            "_view_count": null,
            "_view_module": "@jupyter-widgets/base",
            "_view_module_version": "1.2.0",
            "_view_name": "LayoutView",
            "align_content": null,
            "align_items": null,
            "align_self": null,
            "border": null,
            "bottom": null,
            "display": null,
            "flex": null,
            "flex_flow": null,
            "grid_area": null,
            "grid_auto_columns": null,
            "grid_auto_flow": null,
            "grid_auto_rows": null,
            "grid_column": null,
            "grid_gap": null,
            "grid_row": null,
            "grid_template_areas": null,
            "grid_template_columns": null,
            "grid_template_rows": null,
            "height": null,
            "justify_content": null,
            "justify_items": null,
            "left": null,
            "margin": null,
            "max_height": null,
            "max_width": null,
            "min_height": null,
            "min_width": null,
            "object_fit": null,
            "object_position": null,
            "order": null,
            "overflow": null,
            "overflow_x": null,
            "overflow_y": null,
            "padding": null,
            "right": null,
            "top": null,
            "visibility": null,
            "width": null
          }
        },
        "0e9522832af64427adc8e01f9d8d2274": {
          "model_module": "@jupyter-widgets/controls",
          "model_name": "ProgressStyleModel",
          "model_module_version": "1.5.0",
          "state": {
            "_model_module": "@jupyter-widgets/controls",
            "_model_module_version": "1.5.0",
            "_model_name": "ProgressStyleModel",
            "_view_count": null,
            "_view_module": "@jupyter-widgets/base",
            "_view_module_version": "1.2.0",
            "_view_name": "StyleView",
            "bar_color": null,
            "description_width": ""
          }
        }
      }
    }
  },
  "cells": [
    {
      "cell_type": "code",
      "source": [
        "# prompt: pip install wandb\n",
        "\n",
        "!pip install wandb\n"
      ],
      "metadata": {
        "id": "vDmsGtdFCOxJ",
        "colab": {
          "base_uri": "https://localhost:8080/"
        },
        "outputId": "7e0c3c9f-a28a-4e27-e769-48cfc0bb48eb"
      },
      "execution_count": 2,
      "outputs": [
        {
          "output_type": "stream",
          "name": "stdout",
          "text": [
            "Collecting wandb\n",
            "  Downloading wandb-0.16.2-py3-none-any.whl (2.2 MB)\n",
            "\u001b[2K     \u001b[90m━━━━━━━━━━━━━━━━━━━━━━━━━━━━━━━━━━━━━━━━\u001b[0m \u001b[32m2.2/2.2 MB\u001b[0m \u001b[31m11.7 MB/s\u001b[0m eta \u001b[36m0:00:00\u001b[0m\n",
            "\u001b[?25hRequirement already satisfied: Click!=8.0.0,>=7.1 in /usr/local/lib/python3.10/dist-packages (from wandb) (8.1.7)\n",
            "Collecting GitPython!=3.1.29,>=1.0.0 (from wandb)\n",
            "  Downloading GitPython-3.1.41-py3-none-any.whl (196 kB)\n",
            "\u001b[2K     \u001b[90m━━━━━━━━━━━━━━━━━━━━━━━━━━━━━━━━━━━━━━━━\u001b[0m \u001b[32m196.4/196.4 kB\u001b[0m \u001b[31m3.7 MB/s\u001b[0m eta \u001b[36m0:00:00\u001b[0m\n",
            "\u001b[?25hRequirement already satisfied: requests<3,>=2.0.0 in /usr/local/lib/python3.10/dist-packages (from wandb) (2.31.0)\n",
            "Requirement already satisfied: psutil>=5.0.0 in /usr/local/lib/python3.10/dist-packages (from wandb) (5.9.5)\n",
            "Collecting sentry-sdk>=1.0.0 (from wandb)\n",
            "  Downloading sentry_sdk-1.39.2-py2.py3-none-any.whl (254 kB)\n",
            "\u001b[2K     \u001b[90m━━━━━━━━━━━━━━━━━━━━━━━━━━━━━━━━━━━━━━━━\u001b[0m \u001b[32m254.1/254.1 kB\u001b[0m \u001b[31m14.9 MB/s\u001b[0m eta \u001b[36m0:00:00\u001b[0m\n",
            "\u001b[?25hCollecting docker-pycreds>=0.4.0 (from wandb)\n",
            "  Downloading docker_pycreds-0.4.0-py2.py3-none-any.whl (9.0 kB)\n",
            "Requirement already satisfied: PyYAML in /usr/local/lib/python3.10/dist-packages (from wandb) (6.0.1)\n",
            "Collecting setproctitle (from wandb)\n",
            "  Downloading setproctitle-1.3.3-cp310-cp310-manylinux_2_5_x86_64.manylinux1_x86_64.manylinux_2_17_x86_64.manylinux2014_x86_64.whl (30 kB)\n",
            "Requirement already satisfied: setuptools in /usr/local/lib/python3.10/dist-packages (from wandb) (67.7.2)\n",
            "Requirement already satisfied: appdirs>=1.4.3 in /usr/local/lib/python3.10/dist-packages (from wandb) (1.4.4)\n",
            "Requirement already satisfied: protobuf!=4.21.0,<5,>=3.19.0 in /usr/local/lib/python3.10/dist-packages (from wandb) (3.20.3)\n",
            "Requirement already satisfied: six>=1.4.0 in /usr/local/lib/python3.10/dist-packages (from docker-pycreds>=0.4.0->wandb) (1.16.0)\n",
            "Collecting gitdb<5,>=4.0.1 (from GitPython!=3.1.29,>=1.0.0->wandb)\n",
            "  Downloading gitdb-4.0.11-py3-none-any.whl (62 kB)\n",
            "\u001b[2K     \u001b[90m━━━━━━━━━━━━━━━━━━━━━━━━━━━━━━━━━━━━━━━━\u001b[0m \u001b[32m62.7/62.7 kB\u001b[0m \u001b[31m4.3 MB/s\u001b[0m eta \u001b[36m0:00:00\u001b[0m\n",
            "\u001b[?25hRequirement already satisfied: charset-normalizer<4,>=2 in /usr/local/lib/python3.10/dist-packages (from requests<3,>=2.0.0->wandb) (3.3.2)\n",
            "Requirement already satisfied: idna<4,>=2.5 in /usr/local/lib/python3.10/dist-packages (from requests<3,>=2.0.0->wandb) (3.6)\n",
            "Requirement already satisfied: urllib3<3,>=1.21.1 in /usr/local/lib/python3.10/dist-packages (from requests<3,>=2.0.0->wandb) (2.0.7)\n",
            "Requirement already satisfied: certifi>=2017.4.17 in /usr/local/lib/python3.10/dist-packages (from requests<3,>=2.0.0->wandb) (2023.11.17)\n",
            "Collecting smmap<6,>=3.0.1 (from gitdb<5,>=4.0.1->GitPython!=3.1.29,>=1.0.0->wandb)\n",
            "  Downloading smmap-5.0.1-py3-none-any.whl (24 kB)\n",
            "Installing collected packages: smmap, setproctitle, sentry-sdk, docker-pycreds, gitdb, GitPython, wandb\n",
            "Successfully installed GitPython-3.1.41 docker-pycreds-0.4.0 gitdb-4.0.11 sentry-sdk-1.39.2 setproctitle-1.3.3 smmap-5.0.1 wandb-0.16.2\n"
          ]
        }
      ]
    },
    {
      "cell_type": "code",
      "source": [
        "from google.colab import userdata\n",
        "wandb_key = userdata.get('WANDB_KEY')"
      ],
      "metadata": {
        "id": "PnM-QHxjFh-z"
      },
      "execution_count": 3,
      "outputs": []
    },
    {
      "cell_type": "code",
      "execution_count": 4,
      "metadata": {
        "colab": {
          "base_uri": "https://localhost:8080/"
        },
        "id": "Uxz9EMn5BVtz",
        "outputId": "9c1122ed-f041-4677-c31d-232eeb5d1977"
      },
      "outputs": [
        {
          "output_type": "stream",
          "name": "stderr",
          "text": [
            "\u001b[34m\u001b[1mwandb\u001b[0m: W&B API key is configured. Use \u001b[1m`wandb login --relogin`\u001b[0m to force relogin\n",
            "\u001b[34m\u001b[1mwandb\u001b[0m: \u001b[33mWARNING\u001b[0m If you're specifying your api key in code, ensure this code is not shared publicly.\n",
            "\u001b[34m\u001b[1mwandb\u001b[0m: \u001b[33mWARNING\u001b[0m Consider setting the WANDB_API_KEY environment variable, or running `wandb login` from the command line.\n",
            "\u001b[34m\u001b[1mwandb\u001b[0m: Appending key for api.wandb.ai to your netrc file: /root/.netrc\n"
          ]
        },
        {
          "output_type": "execute_result",
          "data": {
            "text/plain": [
              "True"
            ]
          },
          "metadata": {},
          "execution_count": 4
        }
      ],
      "source": [
        "# prompt: Connect to wandb using the key stored in the variable wandb_key and return list of runs\n",
        "\n",
        "import wandb\n",
        "wandb.login(key = wandb_key)\n",
        "\n"
      ]
    },
    {
      "cell_type": "code",
      "source": [
        "#list names of projects by common-sense-makers\n",
        "entity=\"common-sense-makers\"\n",
        "projects = wandb.api.list_projects(entity=entity)\n",
        "for project in projects:\n",
        "    print(project[\"name\"])"
      ],
      "metadata": {
        "colab": {
          "base_uri": "https://localhost:8080/"
        },
        "id": "Njjafr-he4nt",
        "outputId": "6d114f33-f0c9-4c45-a7c9-cf03f3cb8de1"
      },
      "execution_count": null,
      "outputs": [
        {
          "output_type": "stream",
          "name": "stdout",
          "text": [
            "pytorch-intro\n",
            "basic-intro\n",
            "st-app-multi-v1\n",
            "st-demo-sandbox\n",
            "st_demo-multi_v1_testing\n",
            "st_demo-multi_v1\n",
            "data_aggregation\n",
            "st_demo-v0.2\n",
            "st_demo-v0.1\n",
            "testing\n"
          ]
        }
      ]
    },
    {
      "source": [
        "project = \"st-app-multi-v1\"\n",
        "\n",
        "\n"
      ],
      "cell_type": "code",
      "metadata": {
        "id": "5qad1_K6hEyI"
      },
      "execution_count": 23,
      "outputs": []
    },
    {
      "cell_type": "code",
      "source": [
        "#log data as json\n",
        "import wandb\n",
        "import pandas as pd\n",
        "\n",
        "# Assuming you have a DataFrame named df with your data\n",
        "df = pd.read_csv(\"/content/st_data.csv\")\n",
        "\n",
        "wandb.init(project=\"testing\")\n",
        "artifact = wandb.Artifact(\"labeled_data_v0\", type=\"dataset\")\n",
        "\n",
        "# Save the DataFrame to a JSON file\n",
        "json_path = \"/content/st_data.json\"\n",
        "df.to_json(json_path, orient=\"records\")\n",
        "\n",
        "# Add the JSON file to the artifact\n",
        "artifact.add_file(json_path, name=\"st_data.json\")\n",
        "\n",
        "# Log the artifact\n",
        "wandb.log_artifact(artifact, aliases=[\"latest\"])\n",
        "\n",
        "wandb.run.finish()\n"
      ],
      "metadata": {
        "colab": {
          "base_uri": "https://localhost:8080/",
          "height": 153,
          "referenced_widgets": [
            "2ab8a01ea31f4f6590a8ee703db2456e",
            "510253d7e28447368159d9254deb1bd3",
            "8621f47724cf41a78a4b9ba0966b6ea5",
            "afee94fec2294dfa89ed87b46ed0c6dd",
            "d84a96a42e314cd5b2ffad455572e921",
            "f00b6fb6107e405896d32e82dd4c5e0a",
            "f5353b6e7f4e48e494abe84bf8ff1076",
            "301ce7b8cfcd45c2aefa7bc0a972382e"
          ]
        },
        "id": "nVZBxBcNXgzy",
        "outputId": "834ed238-dde8-479b-e707-9eb54bf2e141"
      },
      "execution_count": null,
      "outputs": [
        {
          "output_type": "display_data",
          "data": {
            "text/plain": [
              "<IPython.core.display.HTML object>"
            ],
            "text/html": [
              "Tracking run with wandb version 0.16.1"
            ]
          },
          "metadata": {}
        },
        {
          "output_type": "display_data",
          "data": {
            "text/plain": [
              "<IPython.core.display.HTML object>"
            ],
            "text/html": [
              "Run data is saved locally in <code>/content/wandb/run-20240106_041813-ewefy0yj</code>"
            ]
          },
          "metadata": {}
        },
        {
          "output_type": "display_data",
          "data": {
            "text/plain": [
              "<IPython.core.display.HTML object>"
            ],
            "text/html": [
              "Syncing run <strong><a href='https://wandb.ai/common-sense-makers/testing/runs/ewefy0yj' target=\"_blank\">zany-waterfall-15</a></strong> to <a href='https://wandb.ai/common-sense-makers/testing' target=\"_blank\">Weights & Biases</a> (<a href='https://wandb.me/run' target=\"_blank\">docs</a>)<br/>"
            ]
          },
          "metadata": {}
        },
        {
          "output_type": "display_data",
          "data": {
            "text/plain": [
              "<IPython.core.display.HTML object>"
            ],
            "text/html": [
              " View project at <a href='https://wandb.ai/common-sense-makers/testing' target=\"_blank\">https://wandb.ai/common-sense-makers/testing</a>"
            ]
          },
          "metadata": {}
        },
        {
          "output_type": "display_data",
          "data": {
            "text/plain": [
              "<IPython.core.display.HTML object>"
            ],
            "text/html": [
              " View run at <a href='https://wandb.ai/common-sense-makers/testing/runs/ewefy0yj' target=\"_blank\">https://wandb.ai/common-sense-makers/testing/runs/ewefy0yj</a>"
            ]
          },
          "metadata": {}
        },
        {
          "output_type": "display_data",
          "data": {
            "text/plain": [
              "VBox(children=(Label(value='0.085 MB of 0.085 MB uploaded\\r'), FloatProgress(value=1.0, max=1.0)))"
            ],
            "application/vnd.jupyter.widget-view+json": {
              "version_major": 2,
              "version_minor": 0,
              "model_id": "2ab8a01ea31f4f6590a8ee703db2456e"
            }
          },
          "metadata": {}
        },
        {
          "output_type": "display_data",
          "data": {
            "text/plain": [
              "<IPython.core.display.HTML object>"
            ],
            "text/html": [
              " View run <strong style=\"color:#cdcd00\">zany-waterfall-15</strong> at: <a href='https://wandb.ai/common-sense-makers/testing/runs/ewefy0yj' target=\"_blank\">https://wandb.ai/common-sense-makers/testing/runs/ewefy0yj</a><br/>Synced 4 W&B file(s), 0 media file(s), 1 artifact file(s) and 0 other file(s)"
            ]
          },
          "metadata": {}
        },
        {
          "output_type": "display_data",
          "data": {
            "text/plain": [
              "<IPython.core.display.HTML object>"
            ],
            "text/html": [
              "Find logs at: <code>./wandb/run-20240106_041813-ewefy0yj/logs</code>"
            ]
          },
          "metadata": {}
        }
      ]
    },
    {
      "cell_type": "code",
      "source": [
        "#log dataset as wandb.Table object\n",
        "#which is also JSON but has nice display\n",
        "import wandb\n",
        "import pandas as pd\n",
        "\n",
        "# Assuming you have a DataFrame named df with your data\n",
        "df = pd.read_csv(\"/content/st_data_v1.csv\")\n",
        "\n",
        "wandb.init(project=\"testing\")\n",
        "artifact = wandb.Artifact(\"labeled_data_v0\", type=\"dataset\")\n",
        "\n",
        "# Create a wandb.Table from the Pandas DataFrame\n",
        "table = wandb.Table(dataframe=df)\n",
        "\n",
        "# Add the wandb.Table to the artifact\n",
        "artifact.add(table, \"labeled_data_table\")\n",
        "\n",
        "# Log the artifact\n",
        "wandb.log_artifact(artifact, aliases=[\"latest\"])\n",
        "\n",
        "wandb.run.finish()\n"
      ],
      "metadata": {
        "colab": {
          "base_uri": "https://localhost:8080/",
          "height": 153,
          "referenced_widgets": [
            "8307e9813b8e4c738c59ec7612ecd2c2",
            "5a3dc362c0c9488985c6b7bd6d0290e9",
            "3eb4665ad4f946bd8d9ef7f1d7fbd9f5",
            "d5db689346534fa6bc936d9e6672d3c1",
            "0cdd4fd14b3b4afab3541b2694941d37",
            "ec96b21141e84b1d8a8c68940c9e799e",
            "0c129099b9b443e6adb05514682ee04f",
            "107f2b41ecfa46e08acb096d51d7a961"
          ]
        },
        "id": "mlZty8pp_xY2",
        "outputId": "fbf954ea-0a4d-42b0-a5f2-876444d10b5a"
      },
      "execution_count": null,
      "outputs": [
        {
          "output_type": "display_data",
          "data": {
            "text/plain": [
              "<IPython.core.display.HTML object>"
            ],
            "text/html": [
              "Tracking run with wandb version 0.16.1"
            ]
          },
          "metadata": {}
        },
        {
          "output_type": "display_data",
          "data": {
            "text/plain": [
              "<IPython.core.display.HTML object>"
            ],
            "text/html": [
              "Run data is saved locally in <code>/content/wandb/run-20240106_042606-p4emzprj</code>"
            ]
          },
          "metadata": {}
        },
        {
          "output_type": "display_data",
          "data": {
            "text/plain": [
              "<IPython.core.display.HTML object>"
            ],
            "text/html": [
              "Syncing run <strong><a href='https://wandb.ai/common-sense-makers/testing/runs/p4emzprj' target=\"_blank\">ethereal-sea-16</a></strong> to <a href='https://wandb.ai/common-sense-makers/testing' target=\"_blank\">Weights & Biases</a> (<a href='https://wandb.me/run' target=\"_blank\">docs</a>)<br/>"
            ]
          },
          "metadata": {}
        },
        {
          "output_type": "display_data",
          "data": {
            "text/plain": [
              "<IPython.core.display.HTML object>"
            ],
            "text/html": [
              " View project at <a href='https://wandb.ai/common-sense-makers/testing' target=\"_blank\">https://wandb.ai/common-sense-makers/testing</a>"
            ]
          },
          "metadata": {}
        },
        {
          "output_type": "display_data",
          "data": {
            "text/plain": [
              "<IPython.core.display.HTML object>"
            ],
            "text/html": [
              " View run at <a href='https://wandb.ai/common-sense-makers/testing/runs/p4emzprj' target=\"_blank\">https://wandb.ai/common-sense-makers/testing/runs/p4emzprj</a>"
            ]
          },
          "metadata": {}
        },
        {
          "output_type": "display_data",
          "data": {
            "text/plain": [
              "VBox(children=(Label(value='0.035 MB of 0.035 MB uploaded\\r'), FloatProgress(value=1.0, max=1.0)))"
            ],
            "application/vnd.jupyter.widget-view+json": {
              "version_major": 2,
              "version_minor": 0,
              "model_id": "8307e9813b8e4c738c59ec7612ecd2c2"
            }
          },
          "metadata": {}
        },
        {
          "output_type": "display_data",
          "data": {
            "text/plain": [
              "<IPython.core.display.HTML object>"
            ],
            "text/html": [
              " View run <strong style=\"color:#cdcd00\">ethereal-sea-16</strong> at: <a href='https://wandb.ai/common-sense-makers/testing/runs/p4emzprj' target=\"_blank\">https://wandb.ai/common-sense-makers/testing/runs/p4emzprj</a><br/>Synced 4 W&B file(s), 0 media file(s), 1 artifact file(s) and 0 other file(s)"
            ]
          },
          "metadata": {}
        },
        {
          "output_type": "display_data",
          "data": {
            "text/plain": [
              "<IPython.core.display.HTML object>"
            ],
            "text/html": [
              "Find logs at: <code>./wandb/run-20240106_042606-p4emzprj/logs</code>"
            ]
          },
          "metadata": {}
        }
      ]
    },
    {
      "cell_type": "markdown",
      "source": [
        "This block imports a table from an artifact, whose path we must specify, and saves only the 'Text' and 'True Label' filed in a pd data frame. So later, we can evaluate predictions of models over the text entries."
      ],
      "metadata": {
        "id": "FgmckakTWEe6"
      }
    },
    {
      "cell_type": "code",
      "source": [
        "#download a table from datasetartifact\n",
        "#save it in a dataframe\n",
        "path = \"common-sense-makers/testing/labeled_data_v0:v4\"\n",
        "\n",
        "import wandb\n",
        "from pathlib import Path\n",
        "import json\n",
        "import pandas as pd\n",
        "\n",
        "api = wandb.Api()\n",
        "artifact = api.artifact(path)\n",
        "\n",
        "#download path to table\n",
        "a_path = artifact.download()\n",
        "table_path = Path(f\"{a_path}/labeled_data_table.table.json\")\n",
        "raw_data = json.load(table_path.open())\n",
        "\n",
        "#put it in a dataframe\n",
        "x = raw_data[\"columns\"].index('Text')\n",
        "y = raw_data[\"columns\"].index('True Label')\n",
        "\n",
        "rows = []\n",
        "i = 0\n",
        "exception = 1\n",
        "while exception:\n",
        "  try:\n",
        "    #assume x<y\n",
        "    row_d = dict(zip([\"Text\",'True Label'],\n",
        "                     [raw_data[\"data\"][i][x],raw_data[\"data\"][i][y]]))\n",
        "    #print(row_d)\n",
        "    rows.append(row_d)\n",
        "    i=i+1\n",
        "    exception = 1\n",
        "  except:\n",
        "    print(\"exceprion\")\n",
        "    exception = 0\n",
        "\n",
        "\n",
        "df = pd.DataFrame(rows)\n",
        "\n",
        "print(df)\n"
      ],
      "metadata": {
        "colab": {
          "base_uri": "https://localhost:8080/"
        },
        "id": "7FK3G4-_STvT",
        "outputId": "361a1bc6-db8e-408c-8d89-72b4342deef6"
      },
      "execution_count": 22,
      "outputs": [
        {
          "output_type": "stream",
          "name": "stderr",
          "text": [
            "\u001b[34m\u001b[1mwandb\u001b[0m:   1 of 1 files downloaded.  \n"
          ]
        },
        {
          "output_type": "stream",
          "name": "stdout",
          "text": [
            "exceprion\n",
            "                                                 Text  \\\n",
            "0   I just did the proofs for our \"Epistemology of...   \n",
            "1                             I want to read this!!!!   \n",
            "2                                I want to read this!   \n",
            "3   I just did the proofs for our \"Epistemology of...   \n",
            "4   I just did the proofs for our \"Epistemology of...   \n",
            "..                                                ...   \n",
            "73  Good thread and paper I'm looking forward to r...   \n",
            "74  Good thread and paper I'm looking forward to r...   \n",
            "75  For a long time political philosophers ignored...   \n",
            "76  For a long time political philosophers ignored...   \n",
            "77  For a long time political philosophers ignored...   \n",
            "\n",
            "                             True Label  \n",
            "0                                 Other  \n",
            "1        ['read', 'other', 'other:ggg']  \n",
            "2       ['read', 'other', 'other:blah']  \n",
            "3   ['announce', 'other', 'other:test']  \n",
            "4                          ['announce']  \n",
            "..                                  ...  \n",
            "73                            <reading>  \n",
            "74                            <reading>  \n",
            "75                            <reading>  \n",
            "76                            <reading>  \n",
            "77                            <reading>  \n",
            "\n",
            "[78 rows x 2 columns]\n"
          ]
        }
      ]
    },
    {
      "cell_type": "markdown",
      "source": [
        "Create CSV out of all prediction artifacts. Faster than the old script."
      ],
      "metadata": {
        "id": "FXiOR6H6VbVm"
      }
    },
    {
      "cell_type": "code",
      "source": [
        "#Select which project\n",
        "project = \"st-app-multi-v1\""
      ],
      "metadata": {
        "id": "oQes51ojVyXt"
      },
      "execution_count": null,
      "outputs": []
    },
    {
      "cell_type": "code",
      "source": [
        "import wandb\n",
        "import pandas as pd\n",
        "import os\n",
        "import json\n",
        "from pathlib import Path\n",
        "\n",
        "# Initialize wandb\n",
        "wandb.init()\n",
        "api = wandb.Api()\n",
        "# Specify the project and artifact type\n",
        "project_name = project\n",
        "TYPE = 'prediction'\n",
        "\n",
        "# Retrieve all artifacts of the specified type\n",
        "\n",
        "artifacts = []\n",
        "\n",
        "collections = [\n",
        "      coll for coll in api.artifact_type(type_name=TYPE, project=project_name).collections()\n",
        "  ]\n",
        "\n",
        "\n",
        "for coll in collections:\n",
        "    for artifact in coll.artifacts():\n",
        "        artifacts += [artifact]\n",
        "\n",
        "\n",
        "# Process artifacts and create a CSV file\n",
        "csv_data = []\n",
        "rows = []\n",
        "for artifact in artifacts:\n",
        "    # Access the files in the artifact\n",
        "    a_path = artifact.download()\n",
        "\n",
        "    table_path = Path(f\"{a_path}/predictions.table.json\")\n",
        "    raw_data = json.load(table_path.open())\n",
        "\n",
        "    row_d = dict(zip(raw_data['columns'],\n",
        "                     raw_data[\"data\"][0]))\n",
        "    #print(row_d)\n",
        "    rows.append(row_d)\n",
        "\n",
        "df = pd.DataFrame(rows)\n",
        "\n",
        "print(df)\n",
        "\n",
        "csv_data.append(df)\n",
        "\n",
        "# Concatenate all dataframes into one\n",
        "final_dataframe = pd.concat(csv_data, ignore_index=True)\n",
        "\n",
        "# Save the concatenated dataframe to a CSV file\n",
        "output_csv_path = 'output_data.csv'\n",
        "final_dataframe.to_csv(output_csv_path, index=False)\n",
        "\n",
        "print(f\"CSV file saved at {output_csv_path}\")"
      ],
      "metadata": {
        "colab": {
          "base_uri": "https://localhost:8080/",
          "height": 1000,
          "referenced_widgets": [
            "0abc97e46afd4f5298747bc22c290d45",
            "8fc01288aa6945e4b5fde44bc8a6ec75",
            "ae6c382aa3e841ef8509fef4c2fae1d9",
            "bb1c48720c8844c1bf07051300eaf3ed",
            "87644cfdd138487ab5c49f0124fe2a8d",
            "febbf6c2a82e47d693f74487df4f6543",
            "4a6509c5f1bd475a935bb21bee2b282a",
            "0e9522832af64427adc8e01f9d8d2274"
          ]
        },
        "id": "kUJYUyWaO0uG",
        "outputId": "a73c2ae5-d74a-4fd5-b7bf-2e5a051c4946"
      },
      "execution_count": 35,
      "outputs": [
        {
          "output_type": "display_data",
          "data": {
            "text/plain": [
              "<IPython.core.display.HTML object>"
            ],
            "text/html": [
              "Finishing last run (ID:ln4t20xk) before initializing another..."
            ]
          },
          "metadata": {}
        },
        {
          "output_type": "display_data",
          "data": {
            "text/plain": [
              "VBox(children=(Label(value='0.001 MB of 0.001 MB uploaded\\r'), FloatProgress(value=1.0, max=1.0)))"
            ],
            "application/vnd.jupyter.widget-view+json": {
              "version_major": 2,
              "version_minor": 0,
              "model_id": "0abc97e46afd4f5298747bc22c290d45"
            }
          },
          "metadata": {}
        },
        {
          "output_type": "display_data",
          "data": {
            "text/plain": [
              "<IPython.core.display.HTML object>"
            ],
            "text/html": [
              " View run <strong style=\"color:#cdcd00\">youthful-galaxy-16</strong> at: <a href='https://wandb.ai/common-sense-makers/uncategorized/runs/ln4t20xk' target=\"_blank\">https://wandb.ai/common-sense-makers/uncategorized/runs/ln4t20xk</a><br/>Synced 5 W&B file(s), 0 media file(s), 0 artifact file(s) and 0 other file(s)"
            ]
          },
          "metadata": {}
        },
        {
          "output_type": "display_data",
          "data": {
            "text/plain": [
              "<IPython.core.display.HTML object>"
            ],
            "text/html": [
              "Find logs at: <code>./wandb/run-20240111_014956-ln4t20xk/logs</code>"
            ]
          },
          "metadata": {}
        },
        {
          "output_type": "display_data",
          "data": {
            "text/plain": [
              "<IPython.core.display.HTML object>"
            ],
            "text/html": [
              "Successfully finished last run (ID:ln4t20xk). Initializing new run:<br/>"
            ]
          },
          "metadata": {}
        },
        {
          "output_type": "display_data",
          "data": {
            "text/plain": [
              "<IPython.core.display.HTML object>"
            ],
            "text/html": [
              "Tracking run with wandb version 0.16.2"
            ]
          },
          "metadata": {}
        },
        {
          "output_type": "display_data",
          "data": {
            "text/plain": [
              "<IPython.core.display.HTML object>"
            ],
            "text/html": [
              "Run data is saved locally in <code>/content/wandb/run-20240111_022158-2n7brza6</code>"
            ]
          },
          "metadata": {}
        },
        {
          "output_type": "display_data",
          "data": {
            "text/plain": [
              "<IPython.core.display.HTML object>"
            ],
            "text/html": [
              "Syncing run <strong><a href='https://wandb.ai/common-sense-makers/uncategorized/runs/2n7brza6' target=\"_blank\">clear-darkness-17</a></strong> to <a href='https://wandb.ai/common-sense-makers/uncategorized' target=\"_blank\">Weights & Biases</a> (<a href='https://wandb.me/run' target=\"_blank\">docs</a>)<br/>"
            ]
          },
          "metadata": {}
        },
        {
          "output_type": "display_data",
          "data": {
            "text/plain": [
              "<IPython.core.display.HTML object>"
            ],
            "text/html": [
              " View project at <a href='https://wandb.ai/common-sense-makers/uncategorized' target=\"_blank\">https://wandb.ai/common-sense-makers/uncategorized</a>"
            ]
          },
          "metadata": {}
        },
        {
          "output_type": "display_data",
          "data": {
            "text/plain": [
              "<IPython.core.display.HTML object>"
            ],
            "text/html": [
              " View run at <a href='https://wandb.ai/common-sense-makers/uncategorized/runs/2n7brza6' target=\"_blank\">https://wandb.ai/common-sense-makers/uncategorized/runs/2n7brza6</a>"
            ]
          },
          "metadata": {}
        },
        {
          "output_type": "stream",
          "name": "stderr",
          "text": [
            "\u001b[34m\u001b[1mwandb\u001b[0m:   1 of 1 files downloaded.  \n",
            "\u001b[34m\u001b[1mwandb\u001b[0m:   1 of 1 files downloaded.  \n",
            "\u001b[34m\u001b[1mwandb\u001b[0m:   1 of 1 files downloaded.  \n",
            "\u001b[34m\u001b[1mwandb\u001b[0m:   1 of 1 files downloaded.  \n",
            "\u001b[34m\u001b[1mwandb\u001b[0m:   1 of 1 files downloaded.  \n",
            "\u001b[34m\u001b[1mwandb\u001b[0m:   1 of 1 files downloaded.  \n",
            "\u001b[34m\u001b[1mwandb\u001b[0m:   1 of 1 files downloaded.  \n",
            "\u001b[34m\u001b[1mwandb\u001b[0m:   1 of 1 files downloaded.  \n",
            "\u001b[34m\u001b[1mwandb\u001b[0m:   1 of 1 files downloaded.  \n",
            "\u001b[34m\u001b[1mwandb\u001b[0m:   1 of 1 files downloaded.  \n",
            "\u001b[34m\u001b[1mwandb\u001b[0m:   1 of 1 files downloaded.  \n",
            "\u001b[34m\u001b[1mwandb\u001b[0m:   1 of 1 files downloaded.  \n",
            "\u001b[34m\u001b[1mwandb\u001b[0m:   1 of 1 files downloaded.  \n",
            "\u001b[34m\u001b[1mwandb\u001b[0m:   1 of 1 files downloaded.  \n",
            "\u001b[34m\u001b[1mwandb\u001b[0m:   1 of 1 files downloaded.  \n",
            "\u001b[34m\u001b[1mwandb\u001b[0m:   1 of 1 files downloaded.  \n",
            "\u001b[34m\u001b[1mwandb\u001b[0m:   1 of 1 files downloaded.  \n",
            "\u001b[34m\u001b[1mwandb\u001b[0m:   1 of 1 files downloaded.  \n",
            "\u001b[34m\u001b[1mwandb\u001b[0m:   1 of 1 files downloaded.  \n",
            "\u001b[34m\u001b[1mwandb\u001b[0m:   1 of 1 files downloaded.  \n",
            "\u001b[34m\u001b[1mwandb\u001b[0m:   1 of 1 files downloaded.  \n",
            "\u001b[34m\u001b[1mwandb\u001b[0m:   1 of 1 files downloaded.  \n",
            "\u001b[34m\u001b[1mwandb\u001b[0m:   1 of 1 files downloaded.  \n",
            "\u001b[34m\u001b[1mwandb\u001b[0m:   1 of 1 files downloaded.  \n",
            "\u001b[34m\u001b[1mwandb\u001b[0m:   1 of 1 files downloaded.  \n",
            "\u001b[34m\u001b[1mwandb\u001b[0m:   1 of 1 files downloaded.  \n",
            "\u001b[34m\u001b[1mwandb\u001b[0m:   1 of 1 files downloaded.  \n",
            "\u001b[34m\u001b[1mwandb\u001b[0m:   1 of 1 files downloaded.  \n",
            "\u001b[34m\u001b[1mwandb\u001b[0m:   1 of 1 files downloaded.  \n",
            "\u001b[34m\u001b[1mwandb\u001b[0m:   1 of 1 files downloaded.  \n",
            "\u001b[34m\u001b[1mwandb\u001b[0m:   1 of 1 files downloaded.  \n",
            "\u001b[34m\u001b[1mwandb\u001b[0m:   1 of 1 files downloaded.  \n",
            "\u001b[34m\u001b[1mwandb\u001b[0m:   1 of 1 files downloaded.  \n",
            "\u001b[34m\u001b[1mwandb\u001b[0m:   1 of 1 files downloaded.  \n",
            "\u001b[34m\u001b[1mwandb\u001b[0m:   1 of 1 files downloaded.  \n",
            "\u001b[34m\u001b[1mwandb\u001b[0m:   1 of 1 files downloaded.  \n",
            "\u001b[34m\u001b[1mwandb\u001b[0m:   1 of 1 files downloaded.  \n",
            "\u001b[34m\u001b[1mwandb\u001b[0m:   1 of 1 files downloaded.  \n",
            "\u001b[34m\u001b[1mwandb\u001b[0m:   1 of 1 files downloaded.  \n",
            "\u001b[34m\u001b[1mwandb\u001b[0m:   1 of 1 files downloaded.  \n",
            "\u001b[34m\u001b[1mwandb\u001b[0m:   1 of 1 files downloaded.  \n",
            "\u001b[34m\u001b[1mwandb\u001b[0m:   1 of 1 files downloaded.  \n",
            "\u001b[34m\u001b[1mwandb\u001b[0m:   1 of 1 files downloaded.  \n"
          ]
        },
        {
          "output_type": "stream",
          "name": "stdout",
          "text": [
            "                                                 User  \\\n",
            "0                                                 rtk   \n",
            "1                                        Nick Vincent   \n",
            "2                                        Nick Vincent   \n",
            "3                    p(Alex Kiefer | everything else)   \n",
            "4                                       Abeba Birhane   \n",
            "5                                         Nils Gilman   \n",
            "6                                      Tania Lombrozo   \n",
            "7                                  Elizabeth McDaniel   \n",
            "8                                   Kording —-& Lab 🦖   \n",
            "9                                    Zr. Nabu Kudurru   \n",
            "10                                 J. Nathan Matias 🦣   \n",
            "11  rtk - https://twitter.com/ChombaBupe/status/17...   \n",
            "12                                         Tim Howles   \n",
            "13                               ♻️ Leshem Choshen ♻️   \n",
            "14  rtk - https://mastodon.social/@jonny@neuromatc...   \n",
            "15                                   Mx. Aria Stewart   \n",
            "16   Filip Piekniewski🌻 🐘:@filippie509@techhub.social   \n",
            "17   Filip Piekniewski🌻 🐘:@filippie509@techhub.social   \n",
            "18                                      Grace Lindsay   \n",
            "19                                   Aran Komatsuzaki   \n",
            "20                                      Michael Levin   \n",
            "21                                     Kevin Mitchell   \n",
            "22                                     Kevin Mitchell   \n",
            "23  https://twitter.com/ToddLaVogue/status/1741144...   \n",
            "24                                      Michael Levin   \n",
            "25                                   Petar Veličković   \n",
            "26                                 Jay Van Bavel, PhD   \n",
            "27                                   Mohamady El-Gaby   \n",
            "28                                  A.Benítez-Burraco   \n",
            "29                                       Benjamin Han   \n",
            "30                                                 nk   \n",
            "31  https://twitter.com/TimChristiaens5/status/173...   \n",
            "32                                      Jacob Andreas   \n",
            "33                                 Meredith Whittaker   \n",
            "34                                         petersuber   \n",
            "35  https://twitter.com/mbauwens/status/1738764509...   \n",
            "36                                Pierre-Yves Oudeyer   \n",
            "37                Yogi Jaeger 💙 @yoginho@spore.social   \n",
            "38                                 Jay Van Bavel, PhD   \n",
            "39                                       Beth Morling   \n",
            "40                                           UCSD CSE   \n",
            "41                                                rtk   \n",
            "42                                        CoCoSci MIT   \n",
            "\n",
            "                                                  URL  \\\n",
            "0                                                       \n",
            "1   https://twitter.com/nickmvincent/status/171695...   \n",
            "2   https://twitter.com/nickmvincent/status/172421...   \n",
            "3   https://twitter.com/exilefaker/status/17444679...   \n",
            "4   https://twitter.com/Abebab/status/174379520169...   \n",
            "5   https://twitter.com/nils_gilman/status/1743812...   \n",
            "6   https://twitter.com/TaniaLombrozo/status/17227...   \n",
            "7   https://twitter.com/lizilla93/status/174297882...   \n",
            "8   https://twitter.com/KordingLab/status/17428951...   \n",
            "9   https://twitter.com/BrettButtliere/status/1725...   \n",
            "10  https://social.coop/@natematias/11158816356041...   \n",
            "11                                                      \n",
            "12  https://twitter.com/AimeTim/status/17421089854...   \n",
            "13  https://twitter.com/LChoshen/status/1742173831...   \n",
            "14                                                      \n",
            "15  https://kolektiva.social/@aredridel/1115878952...   \n",
            "16  https://twitter.com/filippie509/status/1735357...   \n",
            "17  https://twitter.com/filippie509/status/1735357...   \n",
            "18  https://mastodon.online/@Neurograce/1115292057...   \n",
            "19  https://twitter.com/arankomatsuzaki/status/174...   \n",
            "20  https://twitter.com/drmichaellevin/status/1736...   \n",
            "21  https://twitter.com/WiringTheBrain/status/1736...   \n",
            "22  https://twitter.com/WiringTheBrain/status/1736...   \n",
            "23                                                      \n",
            "24  https://twitter.com/drmichaellevin/status/1741...   \n",
            "25  https://twitter.com/PetarV_93/status/166075104...   \n",
            "26  https://twitter.com/jayvanbavel/status/1740388...   \n",
            "27  https://twitter.com/GabyMohamady/status/174005...   \n",
            "28  https://twitter.com/abenitezburraco/status/174...   \n",
            "29  https://sigmoid.social/@BenjaminHan/1116452492...   \n",
            "30  https://twitter.com/subcountability/status/173...   \n",
            "31                                                      \n",
            "32  https://twitter.com/jacobandreas/status/173937...   \n",
            "33  https://mastodon.world/@Mer__edith/11163736328...   \n",
            "34  https://fediscience.org/@petersuber/1116360367...   \n",
            "35                                                      \n",
            "36  https://twitter.com/pyoudeyer/status/173820310...   \n",
            "37  https://twitter.com/yoginho/status/17382053644...   \n",
            "38  https://twitter.com/jayvanbavel/status/1737906...   \n",
            "39  https://twitter.com/bmorling/status/1738016895...   \n",
            "40  https://twitter.com/ucsd_cse/status/1737935386...   \n",
            "41                                                      \n",
            "42  https://twitter.com/MITCoCoSci/status/17379481...   \n",
            "\n",
            "                                                 Text  \\\n",
            "0   Huge congrats to the team on this release. Hop...   \n",
            "1   Huge congrats to the team on this release. Hop...   \n",
            "2   \"Building a Data Pipeworks for Democratic AI: ...   \n",
            "3   I'll endorse this and double down: there's no ...   \n",
            "4   \"Ultimately, privacy law’s primary goal should...   \n",
            "5   The “singularity” to worry about, say ⁦@glenwe...   \n",
            "6   Join my lab as a postdoc in the Cognitive Scie...   \n",
            "7   Since writing this, I've found others studying...   \n",
            "8   Nice perspective paper on fixing activities be...   \n",
            "9   Some of my dissertation work was recently publ...   \n",
            "10  A new study published by PNAS adds more detail...   \n",
            "11  An explanation for why GPT-4 is degrading:\\n\\n...   \n",
            "12  This looks very interesting:\\n\"Secularism as M...   \n",
            "13  Test sets have 100s or even 1000s of examples\\...   \n",
            "14  From the abstract I can tell this is going to ...   \n",
            "15  Man, this paper is good: https://philpapers.or...   \n",
            "16  Good and balanced article: https://stackoverfl...   \n",
            "17  Good and balanced article: https://stackoverfl...   \n",
            "18  New paper: \"Grounding neuroscience in behavior...   \n",
            "19  Beyond Chinchilla-Optimal: Accounting for Infe...   \n",
            "20  New Preprint - Taining Zhang and @adamjgoldste...   \n",
            "21  An amazing discussion with Paul Cisek and @jma...   \n",
            "22  An amazing discussion with Paul Cisek and @jma...   \n",
            "23  My final book read of 2023 will also be my fir...   \n",
            "24  Cool talk by Nicholas Humphrey https://www.you...   \n",
            "25  I've argued for message passing being all we n...   \n",
            "26  Results from 192 effect sizes and over 2.5 mil...   \n",
            "27  We’ve all heard of place cells: neurons that f...   \n",
            "28  Last preprint by Chomsky and colleagues: \"Synt...   \n",
            "29  1/\\n\\nI have listened to many fascinating inte...   \n",
            "30  @TimChristiaens5 @mattpasquinelli I recently d...   \n",
            "31  First reading of the winterbreak, The Eye of t...   \n",
            "32  Are you an undergrad interested in NLP researc...   \n",
            "33  Persistent surveillance sold as a cure for lon...   \n",
            "34  Recommended: \"This paper proposes to establish...   \n",
            "35  Probably the best book I read about the 'digit...   \n",
            "36  Searching for an internship on #AI4Education u...   \n",
            "37  We just dropped a new preprint!\\n\\n\"Beyond net...   \n",
            "38  AI appears more rational than people:\\n\\nChatG...   \n",
            "39  We're hiring a chair of our excellent departme...   \n",
            "40  Friendly reminder: @UCSanDiego CSE is looking ...   \n",
            "41  People don't take a one-size-fits-all approach...   \n",
            "42  People don't take a one-size-fits-all approach...   \n",
            "\n",
            "                                      Reasoning Steps  \\\n",
            "0   [Reasoning Steps]\\n\\n1. The post is a reply to...   \n",
            "1   [Reasoning Steps]\\n\\n1. The post does not cont...   \n",
            "2   [Reasoning Steps]\\n\\n1. The post seems to be r...   \n",
            "3   [Reasoning Steps]\\n\\n1. The user is expressing...   \n",
            "4   [Reasoning Steps]\\n\\n1. Identify the main topi...   \n",
            "5   [Reasoning Steps]\\n\\n1. The post mentions the ...   \n",
            "6   [Reasoning Steps]\\n\\n1. The post is describing...   \n",
            "7   [Reasoning Steps]\\n\\n1. The post is discussing...   \n",
            "8   [Reasoning Steps]\\n\\n1. The post is discussing...   \n",
            "9   [Reasoning Steps]\\n\\n1. The user mentions that...   \n",
            "10  [Reasoning Steps]\\n\\n1. The post is about a ne...   \n",
            "11  [Reasoning Steps]\\n\\n1. The given post discuss...   \n",
            "12  [Reasoning Steps]\\n\\n1. The post is sharing a ...   \n",
            "13  [Reasoning Steps]\\n\\n1. The post is discussing...   \n",
            "14  [Reasoning Steps]\\n\\n1. The user expresses exc...   \n",
            "15  [Reasoning Steps]\\n\\n1. The post is expressing...   \n",
            "16  [Reasoning Steps]\\n\\n1. The post contains an a...   \n",
            "17  [Reasoning Steps]\\n\\n1. The post is sharing a ...   \n",
            "18  [Reasoning Steps]\\n\\n1. The post is announcing...   \n",
            "19  [Reasoning Steps]\\n\\n1. The post announces a n...   \n",
            "20  [Reasoning Steps]\\n\\n1. The post is about a ne...   \n",
            "21  [Reasoning Steps]\\n\\n1. The post contains a di...   \n",
            "22  [Reasoning Steps]\\n\\n1. The post contains a di...   \n",
            "23  [Reasoning Steps]\\n\\n1. The post is about a bo...   \n",
            "24  [Reasoning Steps]\\n\\n1. The post contains a li...   \n",
            "25  [Reasoning Steps]\\n\\n1. The post contains an a...   \n",
            "26  [Reasoning Steps]\\n\\n1. The post discusses the...   \n",
            "27  [Reasoning Steps]\\n\\n[System error: failed to ...   \n",
            "28  [Reasoning Steps]\\n\\n[System error: failed to ...   \n",
            "29  [Reasoning Steps]\\n\\n1. The post is about a po...   \n",
            "30  [Reasoning Steps]\\n\\n1. The post mentions a po...   \n",
            "31  [Reasoning Steps]\\n\\n1. The post is about a bo...   \n",
            "32  [Reasoning Steps]\\n\\n1. The post is about an o...   \n",
            "33  [Reasoning Steps]\\n\\n1. The post discusses the...   \n",
            "34  [Reasoning Steps]\\n\\n1. The post contains info...   \n",
            "35  [Reasoning Steps]\\n\\n1. The post describes a b...   \n",
            "36  [Reasoning Steps]\\n\\n1. The post discusses job...   \n",
            "37  [Reasoning Steps]\\n\\n**\\n1. First, we need to ...   \n",
            "38  [Reasoning Steps]\\n\\n* Firstly, we need to det...   \n",
            "39  [Reasoning Steps]\\n\\n1. Firstly, we need to ch...   \n",
            "40  [Reasoning Steps]\\n\\n1. Check if there is an a...   \n",
            "41  [Reasoning Steps]\\n\\n[System error: failed to ...   \n",
            "42  [Reasoning Steps]\\n\\n1. Based on the first sen...   \n",
            "\n",
            "                                      Predicted Label  \\\n",
            "0   <announce>, <discussion>\\n\\nExplanation:\\nThe ...   \n",
            "1                                                None   \n",
            "2                                             <other>   \n",
            "3                                    <recommendation>   \n",
            "4                                             <other>   \n",
            "5   <other>\\n\\nExplanation:\\nThe post is presentin...   \n",
            "6                                               <job>   \n",
            "7          <discussion>, <recommendation>, <question>   \n",
            "8                      <discussion>, <recommendation>   \n",
            "9                                          <announce>   \n",
            "10                                         <announce>   \n",
            "11                                       <discussion>   \n",
            "12                         <recommendation, announce>   \n",
            "13          <discussion>, <reading>, <recommendation>   \n",
            "14                        <reading>, <recommendation>   \n",
            "15                         <review>, <recommendation>   \n",
            "16                               announce, discussion   \n",
            "17                                       <discussion>   \n",
            "18                                         <announce>   \n",
            "19  * announce: The post announces a new research ...   \n",
            "20                           <announce>, <discussion>   \n",
            "21                                       <discussion>   \n",
            "22                            <discussion>, <podcast>   \n",
            "23      1. <recommendation>\\n2. <reading>\\n3. <event>   \n",
            "24  1. recommendation\\n2. discussion\\n3. announce\\...   \n",
            "25                       <announce>, <recommendation>   \n",
            "26                                       <discussion>   \n",
            "27                                <announce>, <other>   \n",
            "28                                         <announce>   \n",
            "29   <event>, <discussion>, <recommendation>, <other>   \n",
            "30  <watching>, <recommendation>, <discussion>, <d...   \n",
            "31                            1. <reading>\\n2. <book>   \n",
            "32            <job>, <event>, <discussion>, <reading>   \n",
            "33                                       <discussion>   \n",
            "34  1. <announce>\\n2. <discussion>\\n3. <review>\\n4...   \n",
            "35               <recommendation>, <reading>, <event>   \n",
            "36                                              <job>   \n",
            "37             **\\n[Announcement, Networks, Critique]   \n",
            "38                       <announce>, <recommendation>   \n",
            "39                                   {<job>, <other>}   \n",
            "40                   <job>, <recommendation>, <other>   \n",
            "41                             <discussion><announce>   \n",
            "42                                            <quote>   \n",
            "\n",
            "                                 True Label  \\\n",
            "0                                [announce]   \n",
            "1                                [announce]   \n",
            "2                                [announce]   \n",
            "3              [recommendation, discussion]   \n",
            "4                                   [quote]   \n",
            "5                         [quote, announce]   \n",
            "6                                     [job]   \n",
            "7                    [question, discussion]   \n",
            "8              [recommendation, discussion]   \n",
            "9                                [announce]   \n",
            "10                               [announce]   \n",
            "11                      [discussion, quote]   \n",
            "12                [recommendation, reading]   \n",
            "13                    [reading, discussion]   \n",
            "14                                [reading]   \n",
            "15                 [review, recommendation]   \n",
            "16        [review, recommendation, reading]   \n",
            "17                [reading, recommendation]   \n",
            "18                               [announce]   \n",
            "19                               [announce]   \n",
            "20                   [announce, discussion]   \n",
            "21              [recommendation, listening]   \n",
            "22                  [discussion, listening]   \n",
            "23                [reading, recommendation]   \n",
            "24   [discussion, recommendation, watching]   \n",
            "25             [recommendation, discussion]   \n",
            "26                             [discussion]   \n",
            "27                               [announce]   \n",
            "28                               [announce]   \n",
            "29  [recommendation, discussion, listening]   \n",
            "30              [recommendation, listening]   \n",
            "31                                [reading]   \n",
            "32                                    [job]   \n",
            "33                    [discussion, reading]   \n",
            "34               [announce, recommendation]   \n",
            "35         [recommendation, reading, event]   \n",
            "36                                    [job]   \n",
            "37                               [announce]   \n",
            "38            [announce, discussion, quote]   \n",
            "39                                    [job]   \n",
            "40                                    [job]   \n",
            "41                               [announce]   \n",
            "42                               [announce]   \n",
            "\n",
            "                               Name of Label Provider Post Source  \n",
            "0                                                 rtk  user input  \n",
            "1                                                 rtk     twitter  \n",
            "2                                                 rtk     twitter  \n",
            "3                                                 rtk     twitter  \n",
            "4                                                         twitter  \n",
            "5                                                 rtk     twitter  \n",
            "6                                                         twitter  \n",
            "7                                                 rtk     twitter  \n",
            "8                                                 rtk     twitter  \n",
            "9                                                 rtk     twitter  \n",
            "10                                                rtk    mastodon  \n",
            "11  rtk - https://twitter.com/ChombaBupe/status/17...  user input  \n",
            "12                                                rtk     twitter  \n",
            "13                                                rtk     twitter  \n",
            "14  rtk - https://mastodon.social/@jonny@neuromatc...  user input  \n",
            "15                                                rtk    mastodon  \n",
            "16                                                rtk     twitter  \n",
            "17                                                rtk     twitter  \n",
            "18                                                rtk    mastodon  \n",
            "19                                                rtk     twitter  \n",
            "20                                                rtk     twitter  \n",
            "21  rtk - this is the correct label, not previous one     twitter  \n",
            "22                                                rtk     twitter  \n",
            "23  https://twitter.com/ToddLaVogue/status/1741144...  user input  \n",
            "24                                                rtk     twitter  \n",
            "25                                                rtk     twitter  \n",
            "26                                                rtk     twitter  \n",
            "27                                                rtk     twitter  \n",
            "28                                                rtk     twitter  \n",
            "29                                                rtk    mastodon  \n",
            "30                                                rtk     twitter  \n",
            "31  https://twitter.com/TimChristiaens5/status/173...  user input  \n",
            "32                                                rtk     twitter  \n",
            "33                                                rtk    mastodon  \n",
            "34                                                rtk    mastodon  \n",
            "35  https://twitter.com/mbauwens/status/1738764509...  user input  \n",
            "36                                                rtk     twitter  \n",
            "37                                                rtk     twitter  \n",
            "38                                                rtk     twitter  \n",
            "39                                                        twitter  \n",
            "40                                                rtk     twitter  \n",
            "41                                                rtk  user input  \n",
            "42                                                rtk     twitter  \n",
            "CSV file saved at output_data.csv\n"
          ]
        }
      ]
    }
  ]
}